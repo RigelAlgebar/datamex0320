{
 "cells": [
  {
   "cell_type": "code",
   "execution_count": 1,
   "metadata": {},
   "outputs": [],
   "source": [
    "import numpy as np"
   ]
  },
  {
   "cell_type": "code",
   "execution_count": 2,
   "metadata": {},
   "outputs": [
    {
     "name": "stdout",
     "output_type": "stream",
     "text": [
      "1.16.4\n"
     ]
    }
   ],
   "source": [
    "print(np.__version__)"
   ]
  },
  {
   "cell_type": "code",
   "execution_count": 3,
   "metadata": {},
   "outputs": [
    {
     "name": "stdout",
     "output_type": "stream",
     "text": [
      "CPU times: user 2 µs, sys: 0 ns, total: 2 µs\n",
      "Wall time: 4.05 µs\n"
     ]
    }
   ],
   "source": [
    "a = np.random.random((2,3,5))"
   ]
  },
  {
   "cell_type": "code",
   "execution_count": 5,
   "metadata": {},
   "outputs": [
    {
     "name": "stdout",
     "output_type": "stream",
     "text": [
      "[[[0.32685026 0.53262822 0.42248334 0.03304339 0.97311045]\n",
      "  [0.17301009 0.03127082 0.45150524 0.62626429 0.28087487]\n",
      "  [0.99134488 0.93174411 0.73164928 0.92392728 0.1665885 ]]\n",
      "\n",
      " [[0.59921373 0.79986411 0.21264948 0.33823435 0.22198975]\n",
      "  [0.69964556 0.80119397 0.01961262 0.17353107 0.3386617 ]\n",
      "  [0.8054982  0.20027777 0.10574543 0.81133913 0.10984341]]]\n"
     ]
    }
   ],
   "source": [
    "print(np.random.random(30).reshape(2,3,5))"
   ]
  },
  {
   "cell_type": "code",
   "execution_count": 6,
   "metadata": {},
   "outputs": [
    {
     "name": "stdout",
     "output_type": "stream",
     "text": [
      "[[[0.57788088 0.35126112 0.62200176 0.69418693 0.67074352]\n",
      "  [0.63656787 0.64494993 0.29037414 0.58948316 0.22991092]\n",
      "  [0.96285694 0.68165831 0.21338268 0.24902571 0.47269984]]\n",
      "\n",
      " [[0.44064973 0.77259466 0.51394948 0.33290077 0.96384974]\n",
      "  [0.44244757 0.01517139 0.1954673  0.1695896  0.24394588]\n",
      "  [0.34587205 0.97661403 0.42695831 0.83658582 0.13239977]]]\n"
     ]
    }
   ],
   "source": [
    "print(np.array([np.random.random() for i in range(30)]).reshape(2,3,5))"
   ]
  },
  {
   "cell_type": "code",
   "execution_count": 4,
   "metadata": {},
   "outputs": [
    {
     "name": "stdout",
     "output_type": "stream",
     "text": [
      "[[[0.93795479 0.23885778 0.4424818  0.51877338 0.67441079]\n",
      "  [0.09748897 0.97912805 0.43950851 0.97616377 0.86749248]\n",
      "  [0.33577825 0.57418336 0.93434912 0.01553701 0.64491085]]\n",
      "\n",
      " [[0.37227036 0.92133283 0.15621512 0.03607632 0.81182083]\n",
      "  [0.74595088 0.22896696 0.66813502 0.83866415 0.29202848]\n",
      "  [0.0457432  0.68759947 0.83229374 0.27051726 0.45529266]]]\n"
     ]
    }
   ],
   "source": [
    "print(a)"
   ]
  },
  {
   "cell_type": "code",
   "execution_count": 35,
   "metadata": {},
   "outputs": [],
   "source": [
    "b = np.ones((5,2,3))"
   ]
  },
  {
   "cell_type": "code",
   "execution_count": 36,
   "metadata": {},
   "outputs": [
    {
     "name": "stdout",
     "output_type": "stream",
     "text": [
      "[[[1. 1. 1.]\n",
      "  [1. 1. 1.]]\n",
      "\n",
      " [[1. 1. 1.]\n",
      "  [1. 1. 1.]]\n",
      "\n",
      " [[1. 1. 1.]\n",
      "  [1. 1. 1.]]\n",
      "\n",
      " [[1. 1. 1.]\n",
      "  [1. 1. 1.]]\n",
      "\n",
      " [[1. 1. 1.]\n",
      "  [1. 1. 1.]]]\n"
     ]
    }
   ],
   "source": [
    "print(b)"
   ]
  },
  {
   "cell_type": "code",
   "execution_count": 89,
   "metadata": {},
   "outputs": [
    {
     "name": "stdout",
     "output_type": "stream",
     "text": [
      "False\n"
     ]
    }
   ],
   "source": [
    "print(a.shape == b.shape)"
   ]
  },
  {
   "cell_type": "code",
   "execution_count": 90,
   "metadata": {},
   "outputs": [
    {
     "ename": "ValueError",
     "evalue": "operands could not be broadcast together with shapes (2,3,5) (5,2,3) ",
     "output_type": "error",
     "traceback": [
      "\u001b[0;31m---------------------------------------------------------------------------\u001b[0m",
      "\u001b[0;31mValueError\u001b[0m                                Traceback (most recent call last)",
      "\u001b[0;32m<ipython-input-90-85111a3ab660>\u001b[0m in \u001b[0;36m<module>\u001b[0;34m\u001b[0m\n\u001b[0;32m----> 1\u001b[0;31m \u001b[0mprint\u001b[0m\u001b[0;34m(\u001b[0m\u001b[0ma\u001b[0m\u001b[0;34m+\u001b[0m\u001b[0mb\u001b[0m\u001b[0;34m)\u001b[0m\u001b[0;34m\u001b[0m\u001b[0;34m\u001b[0m\u001b[0m\n\u001b[0m",
      "\u001b[0;31mValueError\u001b[0m: operands could not be broadcast together with shapes (2,3,5) (5,2,3) "
     ]
    }
   ],
   "source": [
    "print(a+b)"
   ]
  },
  {
   "cell_type": "code",
   "execution_count": 40,
   "metadata": {},
   "outputs": [],
   "source": [
    "c = np.transpose(b,axes=[1,2,0])"
   ]
  },
  {
   "cell_type": "code",
   "execution_count": 84,
   "metadata": {},
   "outputs": [],
   "source": [
    "d=a+c"
   ]
  },
  {
   "cell_type": "code",
   "execution_count": 50,
   "metadata": {},
   "outputs": [
    {
     "name": "stdout",
     "output_type": "stream",
     "text": [
      "[[[0.93795479 0.23885778 0.4424818  0.51877338 0.67441079]\n",
      "  [0.09748897 0.97912805 0.43950851 0.97616377 0.86749248]\n",
      "  [0.33577825 0.57418336 0.93434912 0.01553701 0.64491085]]\n",
      "\n",
      " [[0.37227036 0.92133283 0.15621512 0.03607632 0.81182083]\n",
      "  [0.74595088 0.22896696 0.66813502 0.83866415 0.29202848]\n",
      "  [0.0457432  0.68759947 0.83229374 0.27051726 0.45529266]]] \n",
      "\n",
      "\n",
      "\n",
      " [[[1.93795479 1.23885778 1.4424818  1.51877338 1.67441079]\n",
      "  [1.09748897 1.97912805 1.43950851 1.97616377 1.86749248]\n",
      "  [1.33577825 1.57418336 1.93434912 1.01553701 1.64491085]]\n",
      "\n",
      " [[1.37227036 1.92133283 1.15621512 1.03607632 1.81182083]\n",
      "  [1.74595088 1.22896696 1.66813502 1.83866415 1.29202848]\n",
      "  [1.0457432  1.68759947 1.83229374 1.27051726 1.45529266]]]\n"
     ]
    }
   ],
   "source": [
    "print(a, \"\\n\\n\\n\\n\",d)"
   ]
  },
  {
   "cell_type": "code",
   "execution_count": 92,
   "metadata": {},
   "outputs": [],
   "source": [
    "e = np.multiply(a,c)"
   ]
  },
  {
   "cell_type": "code",
   "execution_count": 52,
   "metadata": {},
   "outputs": [
    {
     "name": "stdout",
     "output_type": "stream",
     "text": [
      "[[[0.93795479 0.23885778 0.4424818  0.51877338 0.67441079]\n",
      "  [0.09748897 0.97912805 0.43950851 0.97616377 0.86749248]\n",
      "  [0.33577825 0.57418336 0.93434912 0.01553701 0.64491085]]\n",
      "\n",
      " [[0.37227036 0.92133283 0.15621512 0.03607632 0.81182083]\n",
      "  [0.74595088 0.22896696 0.66813502 0.83866415 0.29202848]\n",
      "  [0.0457432  0.68759947 0.83229374 0.27051726 0.45529266]]]\n"
     ]
    }
   ],
   "source": [
    "print(e)"
   ]
  },
  {
   "cell_type": "code",
   "execution_count": 93,
   "metadata": {},
   "outputs": [
    {
     "data": {
      "text/plain": [
       "array([[[ True,  True,  True,  True,  True],\n",
       "        [ True,  True,  True,  True,  True],\n",
       "        [ True,  True,  True,  True,  True]],\n",
       "\n",
       "       [[ True,  True,  True,  True,  True],\n",
       "        [ True,  True,  True,  True,  True],\n",
       "        [ True,  True,  True,  True,  True]]])"
      ]
     },
     "execution_count": 93,
     "metadata": {},
     "output_type": "execute_result"
    }
   ],
   "source": [
    "e == a"
   ]
  },
  {
   "cell_type": "code",
   "execution_count": 56,
   "metadata": {},
   "outputs": [],
   "source": [
    "d_max = d.max();\n",
    "d_min = d.min();\n",
    "d_mean = d.mean();"
   ]
  },
  {
   "cell_type": "code",
   "execution_count": 65,
   "metadata": {},
   "outputs": [],
   "source": [
    "f = np.empty((2,3,5))"
   ]
  },
  {
   "cell_type": "code",
   "execution_count": 73,
   "metadata": {},
   "outputs": [
    {
     "data": {
      "text/plain": [
       "array([1.23885778, 1.4424818 , 1.51877338, 1.09748897, 1.43950851,\n",
       "       1.33577825, 1.01553701, 1.37227036, 1.15621512, 1.03607632,\n",
       "       1.22896696, 1.29202848, 1.0457432 , 1.27051726, 1.45529266])"
      ]
     },
     "execution_count": 73,
     "metadata": {},
     "output_type": "execute_result"
    }
   ],
   "source": [
    "d[d_mean>d]"
   ]
  },
  {
   "cell_type": "code",
   "execution_count": 75,
   "metadata": {},
   "outputs": [
    {
     "data": {
      "text/plain": [
       "array([1.93795479, 1.23885778, 1.4424818 , 1.51877338, 1.67441079,\n",
       "       1.09748897, 1.97912805, 1.43950851, 1.97616377, 1.86749248,\n",
       "       1.33577825, 1.57418336, 1.93434912, 1.64491085, 1.37227036,\n",
       "       1.92133283, 1.15621512, 1.03607632, 1.81182083, 1.74595088,\n",
       "       1.22896696, 1.66813502, 1.83866415, 1.29202848, 1.0457432 ,\n",
       "       1.68759947, 1.83229374, 1.27051726, 1.45529266])"
      ]
     },
     "execution_count": 75,
     "metadata": {},
     "output_type": "execute_result"
    }
   ],
   "source": [
    "d[d>d_min]"
   ]
  },
  {
   "cell_type": "code",
   "execution_count": 78,
   "metadata": {},
   "outputs": [
    {
     "data": {
      "text/plain": [
       "[array([[[False,  True,  True,  True, False],\n",
       "         [ True, False,  True, False, False],\n",
       "         [ True, False, False, False, False]],\n",
       " \n",
       "        [[ True, False,  True,  True, False],\n",
       "         [False,  True, False, False,  True],\n",
       "         [ True, False, False,  True,  True]]])]"
      ]
     },
     "execution_count": 78,
     "metadata": {},
     "output_type": "execute_result"
    }
   ],
   "source": [
    "[(d > d_min) & (d < d_mean)]."
   ]
  },
  {
   "cell_type": "code",
   "execution_count": 86,
   "metadata": {},
   "outputs": [],
   "source": [
    "np.place(f, (d > d_min) & (d < d_mean), 25);\n",
    "np.place(f, (d > d_mean) & (d < d_max), 75);\n",
    "np.place(f, (d == d_mean), 50);\n",
    "np.place(f, (d == d_min), 0);\n",
    "np.place(f, (d == d_max), 100);"
   ]
  },
  {
   "cell_type": "code",
   "execution_count": 87,
   "metadata": {},
   "outputs": [
    {
     "data": {
      "text/plain": [
       "array([[[ 75.,  25.,  25.,  25.,  75.],\n",
       "        [ 25., 100.,  25.,  75.,  75.],\n",
       "        [ 25.,  75.,  75.,   0.,  75.]],\n",
       "\n",
       "       [[ 25.,  75.,  25.,  25.,  75.],\n",
       "        [ 75.,  25.,  75.,  75.,  25.],\n",
       "        [ 25.,  75.,  75.,  25.,  25.]]])"
      ]
     },
     "execution_count": 87,
     "metadata": {},
     "output_type": "execute_result"
    }
   ],
   "source": [
    "f"
   ]
  },
  {
   "cell_type": "code",
   "execution_count": 125,
   "metadata": {},
   "outputs": [
    {
     "data": {
      "text/plain": [
       "array([[[1.93795479, 1.23885778, 1.4424818 , 1.51877338, 1.67441079],\n",
       "        [1.09748897, 1.97912805, 1.43950851, 1.97616377, 1.86749248],\n",
       "        [1.33577825, 1.57418336, 1.93434912, 1.01553701, 1.64491085]],\n",
       "\n",
       "       [[1.37227036, 1.92133283, 1.15621512, 1.03607632, 1.81182083],\n",
       "        [1.74595088, 1.22896696, 1.66813502, 1.83866415, 1.29202848],\n",
       "        [1.0457432 , 1.68759947, 1.83229374, 1.27051726, 1.45529266]]])"
      ]
     },
     "execution_count": 125,
     "metadata": {},
     "output_type": "execute_result"
    }
   ],
   "source": [
    "g = d.copy()\n",
    "g"
   ]
  },
  {
   "cell_type": "code",
   "execution_count": 126,
   "metadata": {},
   "outputs": [],
   "source": [
    "g[(d > d_min) & (d < d_mean)] = 1;\n",
    "g[(d > d_mean) & (d < d_max)] = 3;\n",
    "g[(d == d_mean)] = 2;\n",
    "g[(d == d_min)] = 0;\n",
    "g[(d == d_max)] = 4;\n"
   ]
  },
  {
   "cell_type": "code",
   "execution_count": 129,
   "metadata": {},
   "outputs": [],
   "source": [
    "dictio = {0:\"A\", 1:\"B\", 2:\"C\", 3:\"D\", 4:\"E\"}"
   ]
  },
  {
   "cell_type": "code",
   "execution_count": 131,
   "metadata": {},
   "outputs": [],
   "source": [
    "h = np.vectorize(dictio.get)(g)"
   ]
  },
  {
   "cell_type": "code",
   "execution_count": 132,
   "metadata": {},
   "outputs": [
    {
     "data": {
      "text/plain": [
       "array([[['D', 'B', 'B', 'B', 'D'],\n",
       "        ['B', 'E', 'B', 'D', 'D'],\n",
       "        ['B', 'D', 'D', 'A', 'D']],\n",
       "\n",
       "       [['B', 'D', 'B', 'B', 'D'],\n",
       "        ['D', 'B', 'D', 'D', 'B'],\n",
       "        ['B', 'D', 'D', 'B', 'B']]], dtype='<U1')"
      ]
     },
     "execution_count": 132,
     "metadata": {},
     "output_type": "execute_result"
    }
   ],
   "source": [
    "h"
   ]
  },
  {
   "cell_type": "code",
   "execution_count": 123,
   "metadata": {},
   "outputs": [],
   "source": [
    "g =np.array(map(g,{0:\"A\", 1:\"B\", 2:\"C\", 3:\"D\", 4:\"E\"}))"
   ]
  },
  {
   "cell_type": "code",
   "execution_count": 124,
   "metadata": {},
   "outputs": [
    {
     "data": {
      "text/plain": [
       "array(<map object at 0x7fe28fd21ac8>, dtype=object)"
      ]
     },
     "execution_count": 124,
     "metadata": {},
     "output_type": "execute_result"
    }
   ],
   "source": [
    "g"
   ]
  },
  {
   "cell_type": "code",
   "execution_count": null,
   "metadata": {},
   "outputs": [],
   "source": [
    "let g = Dictionary(uniqueKeysWithValues:\n",
    "    oldDict.map { key, value in (key.uppercased(), value.lowercased()) })"
   ]
  }
 ],
 "metadata": {
  "kernelspec": {
   "display_name": "Python 3",
   "language": "python",
   "name": "python3"
  },
  "language_info": {
   "codemirror_mode": {
    "name": "ipython",
    "version": 3
   },
   "file_extension": ".py",
   "mimetype": "text/x-python",
   "name": "python",
   "nbconvert_exporter": "python",
   "pygments_lexer": "ipython3",
   "version": "3.7.3"
  }
 },
 "nbformat": 4,
 "nbformat_minor": 2
}

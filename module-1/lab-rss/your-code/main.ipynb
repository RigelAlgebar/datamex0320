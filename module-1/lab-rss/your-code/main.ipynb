{
 "cells": [
  {
   "cell_type": "markdown",
   "metadata": {},
   "source": [
    "# Working with RSS Feeds Lab\n",
    "\n",
    "Complete the following set of exercises to solidify your knowledge of parsing RSS feeds and extracting information from them."
   ]
  },
  {
   "cell_type": "code",
   "execution_count": 1,
   "metadata": {},
   "outputs": [],
   "source": [
    "import feedparser"
   ]
  },
  {
   "cell_type": "markdown",
   "metadata": {},
   "source": [
    "### 1. Use feedparser to parse the following RSS feed URL."
   ]
  },
  {
   "cell_type": "code",
   "execution_count": 2,
   "metadata": {},
   "outputs": [],
   "source": [
    "url = 'http://feeds.feedburner.com/oreilly/radar/atom'"
   ]
  },
  {
   "cell_type": "code",
   "execution_count": 3,
   "metadata": {},
   "outputs": [],
   "source": [
    "oreilly = feedparser.parse(url)"
   ]
  },
  {
   "cell_type": "code",
   "execution_count": 4,
   "metadata": {},
   "outputs": [
    {
     "data": {
      "text/plain": [
       "'Radar'"
      ]
     },
     "execution_count": 4,
     "metadata": {},
     "output_type": "execute_result"
    }
   ],
   "source": [
    "oreilly.feed.title"
   ]
  },
  {
   "cell_type": "markdown",
   "metadata": {},
   "source": [
    "### 2. Obtain a list of components (keys) that are available for this feed."
   ]
  },
  {
   "cell_type": "code",
   "execution_count": 5,
   "metadata": {},
   "outputs": [
    {
     "data": {
      "text/plain": [
       "['feed',\n",
       " 'entries',\n",
       " 'bozo',\n",
       " 'headers',\n",
       " 'etag',\n",
       " 'updated',\n",
       " 'updated_parsed',\n",
       " 'href',\n",
       " 'status',\n",
       " 'encoding',\n",
       " 'version',\n",
       " 'namespaces']"
      ]
     },
     "execution_count": 5,
     "metadata": {},
     "output_type": "execute_result"
    }
   ],
   "source": [
    "llaves =  list(oreilly.keys())\n",
    "llaves"
   ]
  },
  {
   "cell_type": "markdown",
   "metadata": {},
   "source": [
    "### 3. Obtain a list of components (keys) that are available for the *feed* component of this RSS feed."
   ]
  },
  {
   "cell_type": "code",
   "execution_count": 6,
   "metadata": {},
   "outputs": [
    {
     "data": {
      "text/plain": [
       "['title',\n",
       " 'title_detail',\n",
       " 'links',\n",
       " 'link',\n",
       " 'subtitle',\n",
       " 'subtitle_detail',\n",
       " 'updated',\n",
       " 'updated_parsed',\n",
       " 'language',\n",
       " 'sy_updateperiod',\n",
       " 'sy_updatefrequency',\n",
       " 'generator_detail',\n",
       " 'generator',\n",
       " 'feedburner_info',\n",
       " 'geo_lat',\n",
       " 'geo_long',\n",
       " 'feedburner_emailserviceid',\n",
       " 'feedburner_feedburnerhostname']"
      ]
     },
     "execution_count": 6,
     "metadata": {},
     "output_type": "execute_result"
    }
   ],
   "source": [
    "feed_llaves = list(oreilly['feed'].keys())\n",
    "feed_llaves"
   ]
  },
  {
   "cell_type": "markdown",
   "metadata": {},
   "source": [
    "### 4. Extract and print the feed title, subtitle, author, and link."
   ]
  },
  {
   "cell_type": "code",
   "execution_count": 7,
   "metadata": {},
   "outputs": [
    {
     "name": "stdout",
     "output_type": "stream",
     "text": [
      "Radar| Now, next, and beyond: Tracking need-to-know trends at the intersection of business and technology\n",
      "\n",
      "['Martin Fowler', 'Nat Torkington', 'Cynthia Owens', 'Mike Loukides', 'Tim O’Reilly', 'Roger Magoulas and Steve Swoyer', 'Pamela Rucker', 'Hugo Bowne-Anderson', 'Rita J. King', 'Jenn Webb', 'Mac Slocum', 'Kai Holnes', 'Rachel Laycock and Neal Ford', 'Peter Skomoroch and Mike Loukides', 'Mark Richards', 'Mary Poppendieck', 'George Fairbanks']\n",
      "\n",
      "\n",
      "['http://feedproxy.google.com/~r/oreilly/radar/atom/~3/iZyrc89ytVY/', 'http://feedproxy.google.com/~r/oreilly/radar/atom/~3/qlfo450nz88/', 'http://feedproxy.google.com/~r/oreilly/radar/atom/~3/cQpks9Bw11E/', 'http://feedproxy.google.com/~r/oreilly/radar/atom/~3/GGLbZECmPJI/', 'http://feedproxy.google.com/~r/oreilly/radar/atom/~3/51j23cc8IHc/', 'http://feedproxy.google.com/~r/oreilly/radar/atom/~3/Uz6cibmqT1I/', 'http://feedproxy.google.com/~r/oreilly/radar/atom/~3/UNR8GT2bHms/', 'http://feedproxy.google.com/~r/oreilly/radar/atom/~3/FQ2S_dHbHTs/', 'http://feedproxy.google.com/~r/oreilly/radar/atom/~3/sRQ0tOLD8wo/', 'http://feedproxy.google.com/~r/oreilly/radar/atom/~3/XHjonvVvMTw/', 'http://feedproxy.google.com/~r/oreilly/radar/atom/~3/_F37wbLQBc4/', 'http://feedproxy.google.com/~r/oreilly/radar/atom/~3/Pt-JBUG44GM/', 'http://feedproxy.google.com/~r/oreilly/radar/atom/~3/IfixoIIUCzQ/', 'http://feedproxy.google.com/~r/oreilly/radar/atom/~3/4PONL-GlTVk/', 'http://feedproxy.google.com/~r/oreilly/radar/atom/~3/l2j5BAPHmxA/', 'http://feedproxy.google.com/~r/oreilly/radar/atom/~3/HL3gi2ZiYOE/', 'http://feedproxy.google.com/~r/oreilly/radar/atom/~3/OWHdXEwPypI/', 'http://feedproxy.google.com/~r/oreilly/radar/atom/~3/_YW6drzYyR4/', 'http://feedproxy.google.com/~r/oreilly/radar/atom/~3/TJN5y_x03mc/', 'http://feedproxy.google.com/~r/oreilly/radar/atom/~3/7ndAGLiJ36k/', 'http://feedproxy.google.com/~r/oreilly/radar/atom/~3/NPdxqC3wq2E/', 'http://feedproxy.google.com/~r/oreilly/radar/atom/~3/bc9AV4aYm-s/', 'http://feedproxy.google.com/~r/oreilly/radar/atom/~3/vMm8_OsqJ-4/', 'http://feedproxy.google.com/~r/oreilly/radar/atom/~3/HHITk4XygYg/', 'http://feedproxy.google.com/~r/oreilly/radar/atom/~3/WTB4fwfK6uY/', 'http://feedproxy.google.com/~r/oreilly/radar/atom/~3/1Vby7nmqKsw/', 'http://feedproxy.google.com/~r/oreilly/radar/atom/~3/aiL68-Q073I/', 'http://feedproxy.google.com/~r/oreilly/radar/atom/~3/4lXCER6WqOc/', 'http://feedproxy.google.com/~r/oreilly/radar/atom/~3/tBfm5p4yR-U/', 'http://feedproxy.google.com/~r/oreilly/radar/atom/~3/d1P2m3s7yuQ/', 'http://feedproxy.google.com/~r/oreilly/radar/atom/~3/i98UOAM44uo/', 'http://feedproxy.google.com/~r/oreilly/radar/atom/~3/oDUD3rzhH90/', 'http://feedproxy.google.com/~r/oreilly/radar/atom/~3/bDh1ARjfuqw/', 'http://feedproxy.google.com/~r/oreilly/radar/atom/~3/JICZx5XMzRM/', 'http://feedproxy.google.com/~r/oreilly/radar/atom/~3/zPAuddHbgXk/', 'http://feedproxy.google.com/~r/oreilly/radar/atom/~3/GhfErB4xaPY/', 'http://feedproxy.google.com/~r/oreilly/radar/atom/~3/ohtN5Y_peBg/', 'http://feedproxy.google.com/~r/oreilly/radar/atom/~3/ZG21C4cB-Cg/', 'http://feedproxy.google.com/~r/oreilly/radar/atom/~3/rWYuEOCk7ng/', 'http://feedproxy.google.com/~r/oreilly/radar/atom/~3/bh3WKpMqNYY/', 'http://feedproxy.google.com/~r/oreilly/radar/atom/~3/RXf9JHAKX3s/', 'http://feedproxy.google.com/~r/oreilly/radar/atom/~3/GsSb7EuAQ5A/', 'http://feedproxy.google.com/~r/oreilly/radar/atom/~3/oihNdyY6L8c/', 'http://feedproxy.google.com/~r/oreilly/radar/atom/~3/8BvVnD6BNPQ/', 'http://feedproxy.google.com/~r/oreilly/radar/atom/~3/jWRQyYT46H4/', 'http://feedproxy.google.com/~r/oreilly/radar/atom/~3/zsrywhHLzI8/', 'http://feedproxy.google.com/~r/oreilly/radar/atom/~3/zkuynqMi2dw/', 'http://feedproxy.google.com/~r/oreilly/radar/atom/~3/7OrytSiwf90/', 'http://feedproxy.google.com/~r/oreilly/radar/atom/~3/r2v6X5DEj18/', 'http://feedproxy.google.com/~r/oreilly/radar/atom/~3/wpmmdqTildY/', 'http://feedproxy.google.com/~r/oreilly/radar/atom/~3/DoxRc12sFEA/', 'http://feedproxy.google.com/~r/oreilly/radar/atom/~3/3XhdFqZsNS8/', 'http://feedproxy.google.com/~r/oreilly/radar/atom/~3/bzF03KnLyc4/', 'http://feedproxy.google.com/~r/oreilly/radar/atom/~3/pqmrP2XDVmU/', 'http://feedproxy.google.com/~r/oreilly/radar/atom/~3/3tj3NiTXThA/', 'http://feedproxy.google.com/~r/oreilly/radar/atom/~3/fqGcC2mtuhI/', 'http://feedproxy.google.com/~r/oreilly/radar/atom/~3/52GCNstuI9A/', 'http://feedproxy.google.com/~r/oreilly/radar/atom/~3/NFzr8GtroJI/', 'http://feedproxy.google.com/~r/oreilly/radar/atom/~3/V8u8aZ2VPaE/', 'http://feedproxy.google.com/~r/oreilly/radar/atom/~3/qr_CT36_eOY/']\n"
     ]
    }
   ],
   "source": [
    "feed_title = oreilly.feed.title\n",
    "feed_subtitle = oreilly.feed.subtitle\n",
    "authors = list(set([a.author for a in oreilly.entries]))\n",
    "links  = list(set([l.link for l in oreilly.entries]))\n",
    "\n",
    "print(feed_title+ \"| \"+ feed_subtitle+\"\\n\")\n",
    "print(authors)\n",
    "print(\"\\n\")\n",
    "print(links)"
   ]
  },
  {
   "cell_type": "markdown",
   "metadata": {},
   "source": [
    "### 5. Count the number of entries that are contained in this RSS feed."
   ]
  },
  {
   "cell_type": "code",
   "execution_count": 8,
   "metadata": {},
   "outputs": [
    {
     "data": {
      "text/plain": [
       "60"
      ]
     },
     "execution_count": 8,
     "metadata": {},
     "output_type": "execute_result"
    }
   ],
   "source": [
    "len(oreilly.entries)"
   ]
  },
  {
   "cell_type": "markdown",
   "metadata": {},
   "source": [
    "### 6. Obtain a list of components (keys) available for an entry.\n",
    "\n",
    "*Hint: Remember to index first before requesting the keys*"
   ]
  },
  {
   "cell_type": "code",
   "execution_count": 9,
   "metadata": {},
   "outputs": [
    {
     "data": {
      "text/plain": [
       "['title',\n",
       " 'title_detail',\n",
       " 'links',\n",
       " 'link',\n",
       " 'comments',\n",
       " 'published',\n",
       " 'published_parsed',\n",
       " 'authors',\n",
       " 'author',\n",
       " 'author_detail',\n",
       " 'tags',\n",
       " 'id',\n",
       " 'guidislink',\n",
       " 'summary',\n",
       " 'summary_detail',\n",
       " 'content',\n",
       " 'wfw_commentrss',\n",
       " 'slash_comments',\n",
       " 'feedburner_origlink']"
      ]
     },
     "execution_count": 9,
     "metadata": {},
     "output_type": "execute_result"
    }
   ],
   "source": [
    "list(oreilly.entries[0].keys())"
   ]
  },
  {
   "cell_type": "markdown",
   "metadata": {},
   "source": [
    "### 7. Extract a list of entry titles."
   ]
  },
  {
   "cell_type": "code",
   "execution_count": 10,
   "metadata": {},
   "outputs": [
    {
     "name": "stdout",
     "output_type": "stream",
     "text": [
      "['Four short links: 3 March 2020', 'Four short links: 13 February 2020', 'Four short links: 2 April 2020', 'Four short links: 20 February 2020', 'Four short links: 19 February 2020', 'Four short links: 18 February 2020', 'Four short links: 22 February 2020', 'Four short links: 7 April 2020', 'Great leaders inspire innovation and creativity from within their workforces', 'Four short links: 31 March 2020', 'The state of data quality in 2020', 'Four short links: 17 February 2020', 'Four short links: 23 March 2020', 'Four short links: 3 April 2020', 'Governance and Discovery', 'Four short links: 16 March 2020', 'Radar trends to watch: March 2020', 'The unreasonable importance of data preparation', 'Four short links: 14 February 2020', '5 key areas for tech leaders to watch in 2020', 'Four short links: 6 April 2020', 'What you need to know about product management for AI', 'Four short links: 17 March 2020', 'The death of Agile?', 'An enterprise vision is your company’s North Star', 'Four short links: 5 March 2020', 'Four short links: 4 March 2020', 'Remembering Freeman Dyson', 'Architecture.Next: Invalidating old axioms', 'Four short links: 25 February 2020', 'Four short links: 24 March 2020', 'Four short links: 12 March 2020', '3 ways to confront modern business challenges', 'Four short links: 27 February 2020', 'Four short links: 26 February 2020', 'Four short links: 1 April 2020', 'Four short links: 11 March 2020', 'Four short links: 28 February 2020', 'It’s an unprecedented crisis: 8 things to do right now', '10 ways to get untapped talent in your organization to contribute', 'Four short links: 10 March 2020', 'Four short links: 9 March 2020', 'Intellectual control', 'From the trenches: Rachel Laycock', 'Highlights from the O’Reilly Software Architecture Conference in New York 2020', 'Four short links: 13 March 2020', '6 trends framing the state of AI and ML', 'Where do great architectures come from?', 'Four short links: 8 April 2020', 'Four short links: 6 March 2020', 'Four short links: 20 March 2020', 'AI adoption in the enterprise 2020', 'Leaders need to mobilize change-ready workforces', 'Four short links: 19 March 2020', 'Strong leaders forge an intersection of knowledge and experience', 'Four short links: 2 March 2020', 'The elephant in the architecture', 'Four short links: 18 March 2020', 'Four short links: 24 February 2020', 'Sometimes I draw']\n"
     ]
    }
   ],
   "source": [
    "entries_titles =  list(set([t.title for t in oreilly.entries]))\n",
    "print(entries_titles)"
   ]
  },
  {
   "cell_type": "markdown",
   "metadata": {},
   "source": [
    "### 8. Calculate the percentage of \"Four short links\" entry titles."
   ]
  },
  {
   "cell_type": "code",
   "execution_count": 11,
   "metadata": {},
   "outputs": [
    {
     "data": {
      "text/plain": [
       "60.0"
      ]
     },
     "execution_count": 11,
     "metadata": {},
     "output_type": "execute_result"
    }
   ],
   "source": [
    "percentage = 100*len(set([t.title for t in oreilly.entries if t.title.startswith(\"Four short links\")]))/(len(entries_titles))\n",
    "percentage"
   ]
  },
  {
   "cell_type": "markdown",
   "metadata": {},
   "source": [
    "### 9. Create a Pandas data frame from the feed's entries."
   ]
  },
  {
   "cell_type": "code",
   "execution_count": 12,
   "metadata": {},
   "outputs": [],
   "source": [
    "import pandas as pd"
   ]
  },
  {
   "cell_type": "code",
   "execution_count": 13,
   "metadata": {},
   "outputs": [
    {
     "data": {
      "text/html": [
       "<div>\n",
       "<style scoped>\n",
       "    .dataframe tbody tr th:only-of-type {\n",
       "        vertical-align: middle;\n",
       "    }\n",
       "\n",
       "    .dataframe tbody tr th {\n",
       "        vertical-align: top;\n",
       "    }\n",
       "\n",
       "    .dataframe thead th {\n",
       "        text-align: right;\n",
       "    }\n",
       "</style>\n",
       "<table border=\"1\" class=\"dataframe\">\n",
       "  <thead>\n",
       "    <tr style=\"text-align: right;\">\n",
       "      <th></th>\n",
       "      <th>author</th>\n",
       "      <th>author_detail</th>\n",
       "      <th>authors</th>\n",
       "      <th>comments</th>\n",
       "      <th>content</th>\n",
       "      <th>feedburner_origlink</th>\n",
       "      <th>guidislink</th>\n",
       "      <th>id</th>\n",
       "      <th>link</th>\n",
       "      <th>links</th>\n",
       "      <th>published</th>\n",
       "      <th>published_parsed</th>\n",
       "      <th>slash_comments</th>\n",
       "      <th>summary</th>\n",
       "      <th>summary_detail</th>\n",
       "      <th>tags</th>\n",
       "      <th>title</th>\n",
       "      <th>title_detail</th>\n",
       "      <th>wfw_commentrss</th>\n",
       "    </tr>\n",
       "  </thead>\n",
       "  <tbody>\n",
       "    <tr>\n",
       "      <th>0</th>\n",
       "      <td>Nat Torkington</td>\n",
       "      <td>{'name': 'Nat Torkington'}</td>\n",
       "      <td>[{'name': 'Nat Torkington'}]</td>\n",
       "      <td>https://www.oreilly.com/radar/four-short-links...</td>\n",
       "      <td>[{'type': 'text/html', 'language': None, 'base...</td>\n",
       "      <td>https://www.oreilly.com/radar/four-short-links...</td>\n",
       "      <td>False</td>\n",
       "      <td>https://www.oreilly.com/radar/?p=12611</td>\n",
       "      <td>http://feedproxy.google.com/~r/oreilly/radar/a...</td>\n",
       "      <td>[{'rel': 'alternate', 'type': 'text/html', 'hr...</td>\n",
       "      <td>Wed, 08 Apr 2020 11:48:28 +0000</td>\n",
       "      <td>(2020, 4, 8, 11, 48, 28, 2, 99, 0)</td>\n",
       "      <td>0</td>\n",
       "      <td>System Design for Advanced Beginners &amp;#8212; a...</td>\n",
       "      <td>{'type': 'text/html', 'language': None, 'base'...</td>\n",
       "      <td>[{'term': 'Four Short Links', 'scheme': None, ...</td>\n",
       "      <td>Four short links: 8 April 2020</td>\n",
       "      <td>{'type': 'text/plain', 'language': None, 'base...</td>\n",
       "      <td>https://www.oreilly.com/radar/four-short-links...</td>\n",
       "    </tr>\n",
       "    <tr>\n",
       "      <th>1</th>\n",
       "      <td>Nat Torkington</td>\n",
       "      <td>{'name': 'Nat Torkington'}</td>\n",
       "      <td>[{'name': 'Nat Torkington'}]</td>\n",
       "      <td>https://www.oreilly.com/radar/four-short-links...</td>\n",
       "      <td>[{'type': 'text/html', 'language': None, 'base...</td>\n",
       "      <td>https://www.oreilly.com/radar/four-short-links...</td>\n",
       "      <td>False</td>\n",
       "      <td>https://www.oreilly.com/radar/?p=12606</td>\n",
       "      <td>http://feedproxy.google.com/~r/oreilly/radar/a...</td>\n",
       "      <td>[{'rel': 'alternate', 'type': 'text/html', 'hr...</td>\n",
       "      <td>Tue, 07 Apr 2020 11:45:13 +0000</td>\n",
       "      <td>(2020, 4, 7, 11, 45, 13, 1, 98, 0)</td>\n",
       "      <td>0</td>\n",
       "      <td>locust &amp;#8212; open source load testing tool: ...</td>\n",
       "      <td>{'type': 'text/html', 'language': None, 'base'...</td>\n",
       "      <td>[{'term': 'Four Short Links', 'scheme': None, ...</td>\n",
       "      <td>Four short links: 7 April 2020</td>\n",
       "      <td>{'type': 'text/plain', 'language': None, 'base...</td>\n",
       "      <td>https://www.oreilly.com/radar/four-short-links...</td>\n",
       "    </tr>\n",
       "    <tr>\n",
       "      <th>2</th>\n",
       "      <td>Mike Loukides</td>\n",
       "      <td>{'name': 'Mike Loukides'}</td>\n",
       "      <td>[{'name': 'Mike Loukides'}]</td>\n",
       "      <td>https://www.oreilly.com/radar/governance-and-d...</td>\n",
       "      <td>[{'type': 'text/html', 'language': None, 'base...</td>\n",
       "      <td>https://www.oreilly.com/radar/governance-and-d...</td>\n",
       "      <td>False</td>\n",
       "      <td>https://www.oreilly.com/radar/?p=12594</td>\n",
       "      <td>http://feedproxy.google.com/~r/oreilly/radar/a...</td>\n",
       "      <td>[{'rel': 'alternate', 'type': 'text/html', 'hr...</td>\n",
       "      <td>Mon, 06 Apr 2020 19:09:29 +0000</td>\n",
       "      <td>(2020, 4, 6, 19, 9, 29, 0, 97, 0)</td>\n",
       "      <td>0</td>\n",
       "      <td>Data Governance sounds like a candidate for th...</td>\n",
       "      <td>{'type': 'text/html', 'language': None, 'base'...</td>\n",
       "      <td>[{'term': 'Radar Column', 'scheme': None, 'lab...</td>\n",
       "      <td>Governance and Discovery</td>\n",
       "      <td>{'type': 'text/plain', 'language': None, 'base...</td>\n",
       "      <td>https://www.oreilly.com/radar/governance-and-d...</td>\n",
       "    </tr>\n",
       "    <tr>\n",
       "      <th>3</th>\n",
       "      <td>Nat Torkington</td>\n",
       "      <td>{'name': 'Nat Torkington'}</td>\n",
       "      <td>[{'name': 'Nat Torkington'}]</td>\n",
       "      <td>https://www.oreilly.com/radar/four-short-links...</td>\n",
       "      <td>[{'type': 'text/html', 'language': None, 'base...</td>\n",
       "      <td>https://www.oreilly.com/radar/four-short-links...</td>\n",
       "      <td>False</td>\n",
       "      <td>https://www.oreilly.com/radar/?p=12590</td>\n",
       "      <td>http://feedproxy.google.com/~r/oreilly/radar/a...</td>\n",
       "      <td>[{'rel': 'alternate', 'type': 'text/html', 'hr...</td>\n",
       "      <td>Mon, 06 Apr 2020 11:53:01 +0000</td>\n",
       "      <td>(2020, 4, 6, 11, 53, 1, 0, 97, 0)</td>\n",
       "      <td>0</td>\n",
       "      <td>Rufus &amp;#8212; Create bootable USB drives the e...</td>\n",
       "      <td>{'type': 'text/html', 'language': None, 'base'...</td>\n",
       "      <td>[{'term': 'Four Short Links', 'scheme': None, ...</td>\n",
       "      <td>Four short links: 6 April 2020</td>\n",
       "      <td>{'type': 'text/plain', 'language': None, 'base...</td>\n",
       "      <td>https://www.oreilly.com/radar/four-short-links...</td>\n",
       "    </tr>\n",
       "    <tr>\n",
       "      <th>4</th>\n",
       "      <td>Nat Torkington</td>\n",
       "      <td>{'name': 'Nat Torkington'}</td>\n",
       "      <td>[{'name': 'Nat Torkington'}]</td>\n",
       "      <td>https://www.oreilly.com/radar/four-short-links...</td>\n",
       "      <td>[{'type': 'text/html', 'language': None, 'base...</td>\n",
       "      <td>https://www.oreilly.com/radar/four-short-links...</td>\n",
       "      <td>False</td>\n",
       "      <td>https://www.oreilly.com/radar/?p=12585</td>\n",
       "      <td>http://feedproxy.google.com/~r/oreilly/radar/a...</td>\n",
       "      <td>[{'rel': 'alternate', 'type': 'text/html', 'hr...</td>\n",
       "      <td>Fri, 03 Apr 2020 11:59:08 +0000</td>\n",
       "      <td>(2020, 4, 3, 11, 59, 8, 4, 94, 0)</td>\n",
       "      <td>0</td>\n",
       "      <td>The Zero Trust Learning Curve (Palo Alto Netwo...</td>\n",
       "      <td>{'type': 'text/html', 'language': None, 'base'...</td>\n",
       "      <td>[{'term': 'Four Short Links', 'scheme': None, ...</td>\n",
       "      <td>Four short links: 3 April 2020</td>\n",
       "      <td>{'type': 'text/plain', 'language': None, 'base...</td>\n",
       "      <td>https://www.oreilly.com/radar/four-short-links...</td>\n",
       "    </tr>\n",
       "  </tbody>\n",
       "</table>\n",
       "</div>"
      ],
      "text/plain": [
       "           author               author_detail                       authors  \\\n",
       "0  Nat Torkington  {'name': 'Nat Torkington'}  [{'name': 'Nat Torkington'}]   \n",
       "1  Nat Torkington  {'name': 'Nat Torkington'}  [{'name': 'Nat Torkington'}]   \n",
       "2   Mike Loukides   {'name': 'Mike Loukides'}   [{'name': 'Mike Loukides'}]   \n",
       "3  Nat Torkington  {'name': 'Nat Torkington'}  [{'name': 'Nat Torkington'}]   \n",
       "4  Nat Torkington  {'name': 'Nat Torkington'}  [{'name': 'Nat Torkington'}]   \n",
       "\n",
       "                                            comments  \\\n",
       "0  https://www.oreilly.com/radar/four-short-links...   \n",
       "1  https://www.oreilly.com/radar/four-short-links...   \n",
       "2  https://www.oreilly.com/radar/governance-and-d...   \n",
       "3  https://www.oreilly.com/radar/four-short-links...   \n",
       "4  https://www.oreilly.com/radar/four-short-links...   \n",
       "\n",
       "                                             content  \\\n",
       "0  [{'type': 'text/html', 'language': None, 'base...   \n",
       "1  [{'type': 'text/html', 'language': None, 'base...   \n",
       "2  [{'type': 'text/html', 'language': None, 'base...   \n",
       "3  [{'type': 'text/html', 'language': None, 'base...   \n",
       "4  [{'type': 'text/html', 'language': None, 'base...   \n",
       "\n",
       "                                 feedburner_origlink  guidislink  \\\n",
       "0  https://www.oreilly.com/radar/four-short-links...       False   \n",
       "1  https://www.oreilly.com/radar/four-short-links...       False   \n",
       "2  https://www.oreilly.com/radar/governance-and-d...       False   \n",
       "3  https://www.oreilly.com/radar/four-short-links...       False   \n",
       "4  https://www.oreilly.com/radar/four-short-links...       False   \n",
       "\n",
       "                                       id  \\\n",
       "0  https://www.oreilly.com/radar/?p=12611   \n",
       "1  https://www.oreilly.com/radar/?p=12606   \n",
       "2  https://www.oreilly.com/radar/?p=12594   \n",
       "3  https://www.oreilly.com/radar/?p=12590   \n",
       "4  https://www.oreilly.com/radar/?p=12585   \n",
       "\n",
       "                                                link  \\\n",
       "0  http://feedproxy.google.com/~r/oreilly/radar/a...   \n",
       "1  http://feedproxy.google.com/~r/oreilly/radar/a...   \n",
       "2  http://feedproxy.google.com/~r/oreilly/radar/a...   \n",
       "3  http://feedproxy.google.com/~r/oreilly/radar/a...   \n",
       "4  http://feedproxy.google.com/~r/oreilly/radar/a...   \n",
       "\n",
       "                                               links  \\\n",
       "0  [{'rel': 'alternate', 'type': 'text/html', 'hr...   \n",
       "1  [{'rel': 'alternate', 'type': 'text/html', 'hr...   \n",
       "2  [{'rel': 'alternate', 'type': 'text/html', 'hr...   \n",
       "3  [{'rel': 'alternate', 'type': 'text/html', 'hr...   \n",
       "4  [{'rel': 'alternate', 'type': 'text/html', 'hr...   \n",
       "\n",
       "                         published                    published_parsed  \\\n",
       "0  Wed, 08 Apr 2020 11:48:28 +0000  (2020, 4, 8, 11, 48, 28, 2, 99, 0)   \n",
       "1  Tue, 07 Apr 2020 11:45:13 +0000  (2020, 4, 7, 11, 45, 13, 1, 98, 0)   \n",
       "2  Mon, 06 Apr 2020 19:09:29 +0000   (2020, 4, 6, 19, 9, 29, 0, 97, 0)   \n",
       "3  Mon, 06 Apr 2020 11:53:01 +0000   (2020, 4, 6, 11, 53, 1, 0, 97, 0)   \n",
       "4  Fri, 03 Apr 2020 11:59:08 +0000   (2020, 4, 3, 11, 59, 8, 4, 94, 0)   \n",
       "\n",
       "  slash_comments                                            summary  \\\n",
       "0              0  System Design for Advanced Beginners &#8212; a...   \n",
       "1              0  locust &#8212; open source load testing tool: ...   \n",
       "2              0  Data Governance sounds like a candidate for th...   \n",
       "3              0  Rufus &#8212; Create bootable USB drives the e...   \n",
       "4              0  The Zero Trust Learning Curve (Palo Alto Netwo...   \n",
       "\n",
       "                                      summary_detail  \\\n",
       "0  {'type': 'text/html', 'language': None, 'base'...   \n",
       "1  {'type': 'text/html', 'language': None, 'base'...   \n",
       "2  {'type': 'text/html', 'language': None, 'base'...   \n",
       "3  {'type': 'text/html', 'language': None, 'base'...   \n",
       "4  {'type': 'text/html', 'language': None, 'base'...   \n",
       "\n",
       "                                                tags  \\\n",
       "0  [{'term': 'Four Short Links', 'scheme': None, ...   \n",
       "1  [{'term': 'Four Short Links', 'scheme': None, ...   \n",
       "2  [{'term': 'Radar Column', 'scheme': None, 'lab...   \n",
       "3  [{'term': 'Four Short Links', 'scheme': None, ...   \n",
       "4  [{'term': 'Four Short Links', 'scheme': None, ...   \n",
       "\n",
       "                            title  \\\n",
       "0  Four short links: 8 April 2020   \n",
       "1  Four short links: 7 April 2020   \n",
       "2        Governance and Discovery   \n",
       "3  Four short links: 6 April 2020   \n",
       "4  Four short links: 3 April 2020   \n",
       "\n",
       "                                        title_detail  \\\n",
       "0  {'type': 'text/plain', 'language': None, 'base...   \n",
       "1  {'type': 'text/plain', 'language': None, 'base...   \n",
       "2  {'type': 'text/plain', 'language': None, 'base...   \n",
       "3  {'type': 'text/plain', 'language': None, 'base...   \n",
       "4  {'type': 'text/plain', 'language': None, 'base...   \n",
       "\n",
       "                                      wfw_commentrss  \n",
       "0  https://www.oreilly.com/radar/four-short-links...  \n",
       "1  https://www.oreilly.com/radar/four-short-links...  \n",
       "2  https://www.oreilly.com/radar/governance-and-d...  \n",
       "3  https://www.oreilly.com/radar/four-short-links...  \n",
       "4  https://www.oreilly.com/radar/four-short-links...  "
      ]
     },
     "execution_count": 13,
     "metadata": {},
     "output_type": "execute_result"
    }
   ],
   "source": [
    "df = pd.DataFrame(oreilly.entries)\n",
    "df.head()"
   ]
  },
  {
   "cell_type": "markdown",
   "metadata": {},
   "source": [
    "### 10. Count the number of entries per author and sort them in descending order."
   ]
  },
  {
   "cell_type": "code",
   "execution_count": 14,
   "metadata": {},
   "outputs": [
    {
     "data": {
      "text/plain": [
       "Nat Torkington                       36\n",
       "Jenn Webb                             4\n",
       "Roger Magoulas and Steve Swoyer       4\n",
       "Mike Loukides                         3\n",
       "George Fairbanks                      1\n",
       "Pamela Rucker                         1\n",
       "Tim O’Reilly                          1\n",
       "Kai Holnes                            1\n",
       "Cynthia Owens                         1\n",
       "Rita J. King                          1\n",
       "Mark Richards                         1\n",
       "Hugo Bowne-Anderson                   1\n",
       "Mary Poppendieck                      1\n",
       "Mac Slocum                            1\n",
       "Rachel Laycock and Neal Ford          1\n",
       "Peter Skomoroch and Mike Loukides     1\n",
       "Martin Fowler                         1\n",
       "Name: author, dtype: int64"
      ]
     },
     "execution_count": 14,
     "metadata": {},
     "output_type": "execute_result"
    }
   ],
   "source": [
    "df['author'].value_counts()"
   ]
  },
  {
   "cell_type": "markdown",
   "metadata": {},
   "source": [
    "### 11. Add a new column to the data frame that contains the length (number of characters) of each entry title. Return a data frame that contains the title, author, and title length of each entry in descending order (longest title length at the top)."
   ]
  },
  {
   "cell_type": "code",
   "execution_count": 15,
   "metadata": {},
   "outputs": [],
   "source": [
    "df['title length'] = df['title'].apply(len)"
   ]
  },
  {
   "cell_type": "code",
   "execution_count": 16,
   "metadata": {},
   "outputs": [],
   "source": [
    "new_df = pd.concat([df['title'], df['author'], df['title length']], axis=1)"
   ]
  },
  {
   "cell_type": "code",
   "execution_count": 17,
   "metadata": {},
   "outputs": [],
   "source": [
    "new_df.sort_values(by=['title length'], ascending=False, inplace=True)"
   ]
  },
  {
   "cell_type": "code",
   "execution_count": 18,
   "metadata": {},
   "outputs": [
    {
     "data": {
      "text/html": [
       "<div>\n",
       "<style scoped>\n",
       "    .dataframe tbody tr th:only-of-type {\n",
       "        vertical-align: middle;\n",
       "    }\n",
       "\n",
       "    .dataframe tbody tr th {\n",
       "        vertical-align: top;\n",
       "    }\n",
       "\n",
       "    .dataframe thead th {\n",
       "        text-align: right;\n",
       "    }\n",
       "</style>\n",
       "<table border=\"1\" class=\"dataframe\">\n",
       "  <thead>\n",
       "    <tr style=\"text-align: right;\">\n",
       "      <th></th>\n",
       "      <th>title</th>\n",
       "      <th>author</th>\n",
       "      <th>title length</th>\n",
       "    </tr>\n",
       "  </thead>\n",
       "  <tbody>\n",
       "    <tr>\n",
       "      <th>40</th>\n",
       "      <td>Highlights from the O’Reilly Software Architec...</td>\n",
       "      <td>Mac Slocum</td>\n",
       "      <td>78</td>\n",
       "    </tr>\n",
       "    <tr>\n",
       "      <th>14</th>\n",
       "      <td>Great leaders inspire innovation and creativit...</td>\n",
       "      <td>Jenn Webb</td>\n",
       "      <td>76</td>\n",
       "    </tr>\n",
       "    <tr>\n",
       "      <th>52</th>\n",
       "      <td>10 ways to get untapped talent in your organiz...</td>\n",
       "      <td>Pamela Rucker</td>\n",
       "      <td>65</td>\n",
       "    </tr>\n",
       "    <tr>\n",
       "      <th>15</th>\n",
       "      <td>Strong leaders forge an intersection of knowle...</td>\n",
       "      <td>Jenn Webb</td>\n",
       "      <td>64</td>\n",
       "    </tr>\n",
       "    <tr>\n",
       "      <th>20</th>\n",
       "      <td>It’s an unprecedented crisis: 8 things to do r...</td>\n",
       "      <td>Cynthia Owens</td>\n",
       "      <td>54</td>\n",
       "    </tr>\n",
       "    <tr>\n",
       "      <th>8</th>\n",
       "      <td>What you need to know about product management...</td>\n",
       "      <td>Peter Skomoroch and Mike Loukides</td>\n",
       "      <td>53</td>\n",
       "    </tr>\n",
       "    <tr>\n",
       "      <th>12</th>\n",
       "      <td>An enterprise vision is your company’s North Star</td>\n",
       "      <td>Jenn Webb</td>\n",
       "      <td>49</td>\n",
       "    </tr>\n",
       "    <tr>\n",
       "      <th>13</th>\n",
       "      <td>Leaders need to mobilize change-ready workforces</td>\n",
       "      <td>Jenn Webb</td>\n",
       "      <td>48</td>\n",
       "    </tr>\n",
       "    <tr>\n",
       "      <th>9</th>\n",
       "      <td>The unreasonable importance of data preparation</td>\n",
       "      <td>Hugo Bowne-Anderson</td>\n",
       "      <td>47</td>\n",
       "    </tr>\n",
       "    <tr>\n",
       "      <th>11</th>\n",
       "      <td>3 ways to confront modern business challenges</td>\n",
       "      <td>Rita J. King</td>\n",
       "      <td>45</td>\n",
       "    </tr>\n",
       "    <tr>\n",
       "      <th>54</th>\n",
       "      <td>5 key areas for tech leaders to watch in 2020</td>\n",
       "      <td>Roger Magoulas and Steve Swoyer</td>\n",
       "      <td>45</td>\n",
       "    </tr>\n",
       "    <tr>\n",
       "      <th>42</th>\n",
       "      <td>Architecture.Next: Invalidating old axioms</td>\n",
       "      <td>Mark Richards</td>\n",
       "      <td>42</td>\n",
       "    </tr>\n",
       "    <tr>\n",
       "      <th>18</th>\n",
       "      <td>6 trends framing the state of AI and ML</td>\n",
       "      <td>Roger Magoulas and Steve Swoyer</td>\n",
       "      <td>39</td>\n",
       "    </tr>\n",
       "    <tr>\n",
       "      <th>43</th>\n",
       "      <td>Where do great architectures come from?</td>\n",
       "      <td>Mary Poppendieck</td>\n",
       "      <td>39</td>\n",
       "    </tr>\n",
       "    <tr>\n",
       "      <th>53</th>\n",
       "      <td>Four short links: 19 February 2020</td>\n",
       "      <td>Nat Torkington</td>\n",
       "      <td>34</td>\n",
       "    </tr>\n",
       "  </tbody>\n",
       "</table>\n",
       "</div>"
      ],
      "text/plain": [
       "                                                title  \\\n",
       "40  Highlights from the O’Reilly Software Architec...   \n",
       "14  Great leaders inspire innovation and creativit...   \n",
       "52  10 ways to get untapped talent in your organiz...   \n",
       "15  Strong leaders forge an intersection of knowle...   \n",
       "20  It’s an unprecedented crisis: 8 things to do r...   \n",
       "8   What you need to know about product management...   \n",
       "12  An enterprise vision is your company’s North Star   \n",
       "13   Leaders need to mobilize change-ready workforces   \n",
       "9     The unreasonable importance of data preparation   \n",
       "11      3 ways to confront modern business challenges   \n",
       "54      5 key areas for tech leaders to watch in 2020   \n",
       "42         Architecture.Next: Invalidating old axioms   \n",
       "18            6 trends framing the state of AI and ML   \n",
       "43            Where do great architectures come from?   \n",
       "53                 Four short links: 19 February 2020   \n",
       "\n",
       "                               author  title length  \n",
       "40                         Mac Slocum            78  \n",
       "14                          Jenn Webb            76  \n",
       "52                      Pamela Rucker            65  \n",
       "15                          Jenn Webb            64  \n",
       "20                      Cynthia Owens            54  \n",
       "8   Peter Skomoroch and Mike Loukides            53  \n",
       "12                          Jenn Webb            49  \n",
       "13                          Jenn Webb            48  \n",
       "9                 Hugo Bowne-Anderson            47  \n",
       "11                       Rita J. King            45  \n",
       "54    Roger Magoulas and Steve Swoyer            45  \n",
       "42                      Mark Richards            42  \n",
       "18    Roger Magoulas and Steve Swoyer            39  \n",
       "43                   Mary Poppendieck            39  \n",
       "53                     Nat Torkington            34  "
      ]
     },
     "execution_count": 18,
     "metadata": {},
     "output_type": "execute_result"
    }
   ],
   "source": [
    "new_df.head(15)"
   ]
  },
  {
   "cell_type": "markdown",
   "metadata": {},
   "source": [
    "### 12. Create a list of entry titles whose summary includes the phrase \"machine learning.\""
   ]
  },
  {
   "cell_type": "code",
   "execution_count": 19,
   "metadata": {},
   "outputs": [
    {
     "data": {
      "text/plain": [
       "['What you need to know about product management for AI',\n",
       " 'Four short links: 13 February 2020']"
      ]
     },
     "execution_count": 19,
     "metadata": {},
     "output_type": "execute_result"
    }
   ],
   "source": [
    "[t.title for t in oreilly.entries if \"machine learning\" in t.summary.lower()]"
   ]
  },
  {
   "cell_type": "code",
   "execution_count": null,
   "metadata": {},
   "outputs": [],
   "source": []
  }
 ],
 "metadata": {
  "kernelspec": {
   "display_name": "Python 3",
   "language": "python",
   "name": "python3"
  },
  "language_info": {
   "codemirror_mode": {
    "name": "ipython",
    "version": 3
   },
   "file_extension": ".py",
   "mimetype": "text/x-python",
   "name": "python",
   "nbconvert_exporter": "python",
   "pygments_lexer": "ipython3",
   "version": "3.7.3"
  }
 },
 "nbformat": 4,
 "nbformat_minor": 2
}

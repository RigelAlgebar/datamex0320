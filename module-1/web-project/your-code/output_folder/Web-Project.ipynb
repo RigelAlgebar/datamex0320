{
 "cells": [
  {
   "cell_type": "code",
   "execution_count": 1,
   "metadata": {},
   "outputs": [],
   "source": [
    "import requests\n",
    "from bs4 import BeautifulSoup\n",
    "import pandas as pd\n",
    "import time\n",
    "from tqdm import trange\n",
    "import multiprocessing\n",
    "import re"
   ]
  },
  {
   "cell_type": "code",
   "execution_count": 2,
   "metadata": {},
   "outputs": [],
   "source": [
    "from tqdm import tqdm_notebook as tqdm"
   ]
  },
  {
   "cell_type": "markdown",
   "metadata": {},
   "source": [
    "#### I am gonna play with this code later\n",
    "\n",
    "import scholarly as sh\n",
    "\n",
    "ejem = sh.search_pubs_query(batch_5[5].title.text) \n",
    "\n",
    "pub = next(ejem)\n",
    "\n",
    "print(pub)"
   ]
  },
  {
   "cell_type": "code",
   "execution_count": 3,
   "metadata": {},
   "outputs": [],
   "source": [
    "# Define the query for the ArXiv API\n",
    "\n",
    "quantum_query = \"http://export.arxiv.org/api/query?search_query=cat:quant-ph&start={}&max_results=10000&sortBy=lastUpdatedDate&sortOrder=descending&\"\n"
   ]
  },
  {
   "cell_type": "code",
   "execution_count": 4,
   "metadata": {},
   "outputs": [],
   "source": [
    "def batch(n):\n",
    "    globals()['url_batch'+str(n)] = quantum_query.format((n-1)*10000)\n",
    "    \n",
    "    \n",
    "    globals()['batch_'+str(n)] = BeautifulSoup(requests.get(globals()['url_batch'+str(n)]).content, 'lxml').find_all('entry')\n",
    "    \n",
    "    while len(globals()['batch_'+str(n)]) <10000:\n",
    "        print('The batch number {} failed to extract all data.'.format(n))\n",
    "        print('We will wait 2 mins to try again.')\n",
    "        time.sleep(120)\n",
    "        print('2 mins have passed, we will try to retrieve the data again.\\n')\n",
    "        \n",
    "        globals()['batch_'+str(n)] = BeautifulSoup(requests.get(globals()['url_batch'+str(n)]).content, 'lxml').find_all('entry')\n",
    "    \n",
    "    return \"We have retrive all data for bacth number {}\".format(n)"
   ]
  },
  {
   "cell_type": "code",
   "execution_count": null,
   "metadata": {},
   "outputs": [],
   "source": [
    "%%time\n",
    "\n",
    "for i in trange(1,11):\n",
    "    batch(i)"
   ]
  },
  {
   "cell_type": "code",
   "execution_count": null,
   "metadata": {},
   "outputs": [],
   "source": [
    "# I as able to only get the 5,000 most recent papers\n",
    "\n",
    "for i in range(5):\n",
    "    print(len(globals()['batch_'+str(i+1)]))"
   ]
  },
  {
   "cell_type": "markdown",
   "metadata": {},
   "source": [
    "<br>\n",
    "<br>\n",
    "<br>"
   ]
  },
  {
   "cell_type": "markdown",
   "metadata": {},
   "source": [
    "# Here I start the cosntruction of the Data Frame."
   ]
  },
  {
   "cell_type": "markdown",
   "metadata": {},
   "source": [
    "## All of the following cells create and update the dataframe property by proterpty."
   ]
  },
  {
   "cell_type": "code",
   "execution_count": null,
   "metadata": {},
   "outputs": [],
   "source": [
    "quantum_df = pd.DataFrame([p.title.text for p in batches_1_5], columns=['title'])"
   ]
  },
  {
   "cell_type": "code",
   "execution_count": null,
   "metadata": {},
   "outputs": [],
   "source": [
    "quantum_df.head()"
   ]
  },
  {
   "cell_type": "code",
   "execution_count": null,
   "metadata": {},
   "outputs": [],
   "source": [
    "quantum_df['published'] = pd.DataFrame([p.published.text for p in batches_1_5])"
   ]
  },
  {
   "cell_type": "code",
   "execution_count": null,
   "metadata": {},
   "outputs": [],
   "source": [
    "quantum_df.head()"
   ]
  },
  {
   "cell_type": "code",
   "execution_count": null,
   "metadata": {},
   "outputs": [],
   "source": [
    "quantum_df['summary'] = pd.DataFrame([p.summary.text for p in batches_1_5])"
   ]
  },
  {
   "cell_type": "code",
   "execution_count": null,
   "metadata": {},
   "outputs": [],
   "source": [
    "quantum_df.head()"
   ]
  },
  {
   "cell_type": "code",
   "execution_count": null,
   "metadata": {},
   "outputs": [],
   "source": [
    "quantum_df['num authors'] = pd.DataFrame([len(a.find_all('author')) for a in batches_1_5])"
   ]
  },
  {
   "cell_type": "code",
   "execution_count": null,
   "metadata": {},
   "outputs": [],
   "source": [
    "quantum_df.head()"
   ]
  },
  {
   "cell_type": "code",
   "execution_count": null,
   "metadata": {},
   "outputs": [],
   "source": [
    "quantum_df.head()"
   ]
  },
  {
   "cell_type": "code",
   "execution_count": null,
   "metadata": {},
   "outputs": [],
   "source": [
    "categories = list(map(lambda x: [y['term'] for y in x], [c for x in batches_1_5[:] for c in [x.find_all('category')] if 'term' in str(x)]))"
   ]
  },
  {
   "cell_type": "code",
   "execution_count": null,
   "metadata": {},
   "outputs": [],
   "source": [
    "pd.DataFrame([[x] for x in categories[:10]])"
   ]
  },
  {
   "cell_type": "code",
   "execution_count": null,
   "metadata": {},
   "outputs": [],
   "source": [
    "quantum_df['categories'] = pd.DataFrame([[x] for x in categories])"
   ]
  },
  {
   "cell_type": "code",
   "execution_count": null,
   "metadata": {},
   "outputs": [],
   "source": [
    "quantum_df.head()"
   ]
  },
  {
   "cell_type": "code",
   "execution_count": 5,
   "metadata": {},
   "outputs": [],
   "source": [
    "# Get the number of pages.\n",
    "\n",
    "def num_pages(entry):\n",
    "    if re.search('\\d+ pages', str(entry)):\n",
    "        return re.search('\\d+ pages', str(entry)).group()\n",
    "    else:\n",
    "        return \"Not specified\""
   ]
  },
  {
   "cell_type": "code",
   "execution_count": 6,
   "metadata": {},
   "outputs": [],
   "source": [
    "# Get the number of figures.\n",
    "\n",
    "def num_figures(entry):\n",
    "    if re.search('\\d+ figures', str(entry)):\n",
    "        return re.search('\\d+ figures', str(entry)).group()\n",
    "    else:\n",
    "        return \"Not specified\""
   ]
  },
  {
   "cell_type": "code",
   "execution_count": null,
   "metadata": {},
   "outputs": [],
   "source": [
    "quantum_df['num pages'] = pd.DataFrame(list(map(num_pages, batches_1_5)))"
   ]
  },
  {
   "cell_type": "code",
   "execution_count": null,
   "metadata": {},
   "outputs": [],
   "source": [
    "quantum_df.head()"
   ]
  },
  {
   "cell_type": "code",
   "execution_count": null,
   "metadata": {},
   "outputs": [],
   "source": [
    "quantum_df['num figures'] = pd.DataFrame(list(map(num_figures, batches_1_5)))\n",
    "quantum_df.head()"
   ]
  },
  {
   "cell_type": "markdown",
   "metadata": {},
   "source": [
    "# At this point I had to save the data frame to a csv. Note that I also saved the raw list of batches."
   ]
  },
  {
   "cell_type": "code",
   "execution_count": null,
   "metadata": {},
   "outputs": [],
   "source": [
    "quantum_df.to_csv('quantum_papers.csv')"
   ]
  },
  {
   "cell_type": "code",
   "execution_count": null,
   "metadata": {},
   "outputs": [],
   "source": [
    "pd.DataFrame(batches_1_5).to_csv('batches_1_5.csv')"
   ]
  },
  {
   "cell_type": "code",
   "execution_count": null,
   "metadata": {},
   "outputs": [],
   "source": []
  }
 ],
 "metadata": {
  "kernelspec": {
   "display_name": "Python 3",
   "language": "python",
   "name": "python3"
  },
  "language_info": {
   "codemirror_mode": {
    "name": "ipython",
    "version": 3
   },
   "file_extension": ".py",
   "mimetype": "text/x-python",
   "name": "python",
   "nbconvert_exporter": "python",
   "pygments_lexer": "ipython3",
   "version": "3.7.3"
  }
 },
 "nbformat": 4,
 "nbformat_minor": 2
}

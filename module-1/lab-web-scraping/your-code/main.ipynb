{
 "cells": [
  {
   "cell_type": "markdown",
   "metadata": {},
   "source": [
    "# Web Scraping Lab\n",
    "\n",
    "You will find in this notebook some scrapy exercises to practise your scraping skills.\n",
    "\n",
    "**Tips:**\n",
    "\n",
    "- Check the response status code for each request to ensure you have obtained the intended contennt.\n",
    "- Print the response text in each request to understand the kind of info you are getting and its format.\n",
    "- Check for patterns in the response text to extract the data/info requested in each question.\n",
    "- Visit each url and take a look at its source through Chrome DevTools. You'll need to identify the html tags, special class names etc. used for the html content you are expected to extract."
   ]
  },
  {
   "cell_type": "markdown",
   "metadata": {},
   "source": [
    "- [Requests library](http://docs.python-requests.org/en/master/#the-user-guide) documentation \n",
    "- [Beautiful Soup Doc](https://www.crummy.com/software/BeautifulSoup/bs4/doc/)\n",
    "- [Urllib](https://docs.python.org/3/library/urllib.html#module-urllib)\n",
    "- [re lib](https://docs.python.org/3/library/re.html)\n",
    "- [lxml lib](https://lxml.de/)\n",
    "- [Scrapy](https://scrapy.org/)\n",
    "- [List of HTTP status codes](https://en.wikipedia.org/wiki/List_of_HTTP_status_codes)\n",
    "- [HTML basics](http://www.simplehtmlguide.com/cheatsheet.php)\n",
    "- [CSS basics](https://www.cssbasics.com/#page_start)"
   ]
  },
  {
   "cell_type": "markdown",
   "metadata": {},
   "source": [
    "#### Below are the libraries and modules you may need. `requests`,  `BeautifulSoup` and `pandas` are imported for you. If you prefer to use additional libraries feel free to uncomment them."
   ]
  },
  {
   "cell_type": "code",
   "execution_count": 1,
   "metadata": {},
   "outputs": [],
   "source": [
    "import requests\n",
    "from bs4 import BeautifulSoup\n",
    "import pandas as pd\n",
    "# from pprint import pprint\n",
    "# from lxml import html\n",
    "# from lxml.html import fromstring\n",
    "# import urllib.request\n",
    "# from urllib.request import urlopen\n",
    "# import random\n",
    "# import re\n",
    "# import scrapy"
   ]
  },
  {
   "cell_type": "markdown",
   "metadata": {},
   "source": [
    "#### Download, parse (using BeautifulSoup), and print the content from the Trending Developers page from GitHub:"
   ]
  },
  {
   "cell_type": "code",
   "execution_count": 14,
   "metadata": {},
   "outputs": [],
   "source": [
    "# This is the url you will scrape in this exercise\n",
    "url = 'https://github.com/trending/developers'\n",
    "\n",
    "git_page = requests.get(url).content"
   ]
  },
  {
   "cell_type": "code",
   "execution_count": 15,
   "metadata": {},
   "outputs": [],
   "source": [
    "#your code\n",
    "\n",
    "tren_dev = BeautifulSoup(git_page, 'lxml')"
   ]
  },
  {
   "cell_type": "markdown",
   "metadata": {},
   "source": [
    "#### Display the names of the trending developers retrieved in the previous step.\n",
    "\n",
    "Your output should be a Python list of developer names. Each name should not contain any html tag.\n",
    "\n",
    "**Instructions:**\n",
    "\n",
    "1. Find out the html tag and class names used for the developer names. You can achieve this using Chrome DevTools.\n",
    "\n",
    "1. Use BeautifulSoup to extract all the html elements that contain the developer names.\n",
    "\n",
    "1. Use string manipulation techniques to replace whitespaces and linebreaks (i.e. `\\n`) in the *text* of each html element. Use a list to store the clean names.\n",
    "\n",
    "1. Print the list of names.\n",
    "\n",
    "Your output should look like below:\n",
    "\n",
    "```\n",
    "['trimstray (@trimstray)',\n",
    " 'joewalnes (JoeWalnes)',\n",
    " 'charlax (Charles-AxelDein)',\n",
    " 'ForrestKnight (ForrestKnight)',\n",
    " 'revery-ui (revery-ui)',\n",
    " 'alibaba (Alibaba)',\n",
    " 'Microsoft (Microsoft)',\n",
    " 'github (GitHub)',\n",
    " 'facebook (Facebook)',\n",
    " 'boazsegev (Bo)',\n",
    " 'google (Google)',\n",
    " 'cloudfetch',\n",
    " 'sindresorhus (SindreSorhus)',\n",
    " 'tensorflow',\n",
    " 'apache (TheApacheSoftwareFoundation)',\n",
    " 'DevonCrawford (DevonCrawford)',\n",
    " 'ARMmbed (ArmMbed)',\n",
    " 'vuejs (vuejs)',\n",
    " 'fastai (fast.ai)',\n",
    " 'QiShaoXuan (Qi)',\n",
    " 'joelparkerhenderson (JoelParkerHenderson)',\n",
    " 'torvalds (LinusTorvalds)',\n",
    " 'CyC2018',\n",
    " 'komeiji-satori (神楽坂覚々)',\n",
    " 'script-8']\n",
    " ```"
   ]
  },
  {
   "cell_type": "code",
   "execution_count": 154,
   "metadata": {},
   "outputs": [
    {
     "data": {
      "text/plain": [
       "['ManfredTouron (moul)',\n",
       " 'JethroKuan (jethrokuan)',\n",
       " 'chriseth ()',\n",
       " 'HangZhang (zhanghang1989)',\n",
       " 'TomPayne (twpayne)',\n",
       " 'FranckNijhof (frenck)',\n",
       " 'MariuszNowak (medikoo)',\n",
       " 'SebastiánRamírez (tiangolo)',\n",
       " 'BryanPhelps (bryphe)',\n",
       " 'StéphaneLepin (Palakis)',\n",
       " 'WilleMarcel (willemarcel)',\n",
       " 'ArvidNorberg (arvidn)',\n",
       " 'OlegNenashev (oleg-nenashev)',\n",
       " 'HadleyWickham (hadley)',\n",
       " 'TroyMorehouse (tmorehouse)',\n",
       " 'Haz (diegohaz)',\n",
       " 'MartinAtkins (apparentlymart)',\n",
       " 'hackerman (aeneasr)',\n",
       " 'BryanLiles (bryanl)',\n",
       " 'DanielImms (Tyriar)',\n",
       " 'DavidTolnay (dtolnay)',\n",
       " 'TomasDellaVedova (delvedor)',\n",
       " 'AlexGaynor (alex)',\n",
       " \"NickO'Leary (knolleary)\",\n",
       " 'LeonardoUieda (leouieda)']"
      ]
     },
     "execution_count": 154,
     "metadata": {},
     "output_type": "execute_result"
    }
   ],
   "source": [
    "#your code\n",
    "\n",
    "users = [e.text for e in tren_dev.find_all(\"a\", attrs={\"data-hydro-click\":True}, text=True) if e.text.startswith('\\n') and e.text.endswith('\\n') and 'email' not in e.text]\n",
    "users = [e.replace(\" \", \"\").replace(\"\\n\", \"\") for e in users]\n",
    "users.insert(5, \"\")\n",
    "users = [users[i]+\" \"+\"(\"+users[i+1]+\")\" for i in range(0, len(users)-1, 2)]\n",
    "\n",
    "users"
   ]
  },
  {
   "cell_type": "markdown",
   "metadata": {},
   "source": [
    "#### Display the trending Python repositories in GitHub\n",
    "\n",
    "The steps to solve this problem is similar to the previous one except that you need to find out the repository names instead of developer names."
   ]
  },
  {
   "cell_type": "code",
   "execution_count": 160,
   "metadata": {},
   "outputs": [],
   "source": [
    "# This is the url you will scrape in this exercise\n",
    "url2 = 'https://github.com/trending/python?since=daily'"
   ]
  },
  {
   "cell_type": "code",
   "execution_count": 161,
   "metadata": {},
   "outputs": [],
   "source": [
    "#your code\n",
    "\n",
    "git_repos = requests.get(url2).content"
   ]
  },
  {
   "cell_type": "code",
   "execution_count": 162,
   "metadata": {},
   "outputs": [],
   "source": [
    "tren_repos = BeautifulSoup(git_repos, 'lxml')"
   ]
  },
  {
   "cell_type": "code",
   "execution_count": 176,
   "metadata": {},
   "outputs": [
    {
     "data": {
      "text/plain": [
       "['pluradl.py',\n",
       " 'Background-Matting',\n",
       " 'kivy',\n",
       " 'zipline',\n",
       " 'DeepFaceLab',\n",
       " 'scikit-learn',\n",
       " 'PayloadsAllTheThings',\n",
       " 'eat_tensorflow2_in_30_days',\n",
       " 'pytorch-lightning',\n",
       " 'discord.py',\n",
       " 'Whole-Foods-Delivery-Slot',\n",
       " 'd2l-en',\n",
       " 'ObstructionRemoval',\n",
       " 'nerf-pytorch',\n",
       " 'CenterTrack',\n",
       " 'azure-cli',\n",
       " 'Games',\n",
       " 'pyqtgraph',\n",
       " 'covid19_twitter',\n",
       " 'efficientnet',\n",
       " 'covid-data-model',\n",
       " 'azure-sdk-for-python',\n",
       " 'OSCP',\n",
       " 'chime',\n",
       " 'dowhy']"
      ]
     },
     "execution_count": 176,
     "metadata": {},
     "output_type": "execute_result"
    }
   ],
   "source": [
    "repos = [e.text.replace(\"\\n\", '').replace(' ', '') for e in tren_repos.find_all(\"a\", attrs={\"href\":True}) if e.text.endswith('\\n') if '/' in e.text]\n",
    "repos = [e.split(\"/\")[-1] for e in repos] \n",
    "repos"
   ]
  },
  {
   "cell_type": "markdown",
   "metadata": {},
   "source": [
    "#### Display all the image links from Walt Disney wikipedia page"
   ]
  },
  {
   "cell_type": "code",
   "execution_count": 198,
   "metadata": {},
   "outputs": [],
   "source": [
    "# This is the url you will scrape in this exercise\n",
    "url3 = 'https://en.wikipedia.org/wiki/Walt_Disney'"
   ]
  },
  {
   "cell_type": "code",
   "execution_count": 199,
   "metadata": {},
   "outputs": [],
   "source": [
    "#your code\n",
    "\n",
    "disney_page = requests.get(url3).content\n",
    "disney_soup = BeautifulSoup(disney_page, 'lxml')\n"
   ]
  },
  {
   "cell_type": "code",
   "execution_count": 258,
   "metadata": {},
   "outputs": [
    {
     "data": {
      "text/plain": [
       "['Walt_Disney_1946.JPG',\n",
       " 'Walt_Disney_1942_signature.svg',\n",
       " 'Walt_Disney_envelope_ca._1921.jpg',\n",
       " 'Walt_Disney_and_his_cartoon_creation_%22Mickey_Mouse%22_-_National_Board_of_Review_Magazine.jpg',\n",
       " 'Walt_Disney_1935.jpg',\n",
       " 'Walt_Disney_Snow_white_1937_trailer_screenshot_%2813%29.jpg',\n",
       " 'Disney_drawing_goofy.jpg',\n",
       " 'DisneySchiphol1951.jpg',\n",
       " 'WaltDisneyplansDisneylandDec1954.jpg',\n",
       " 'Walt_disney_portrait_right.jpg',\n",
       " 'Walt_Disney_Grave.JPG',\n",
       " 'Roy_O._Disney_with_Company_at_Press_Conference.jpg',\n",
       " 'Disney_Display_Case.JPG',\n",
       " 'Disney1968.jpg',\n",
       " 'The_Walt_Disney_Company_Logo.svg']"
      ]
     },
     "execution_count": 258,
     "metadata": {},
     "output_type": "execute_result"
    }
   ],
   "source": [
    "disney_img = [str(im) for im in disney_soup.find_all(\"img\", attrs={\"src\":True})]\n",
    "disney_img = [s for l in disney_img for s in l.split() if 'src=\"//upload.' in s ]\n",
    "disney_img = [s for l in disney_img for s in l.split(\"/\") if \"disney\" in s.lower() and 'px' not in s]\n",
    "disney_img\n"
   ]
  },
  {
   "cell_type": "markdown",
   "metadata": {},
   "source": [
    "#### Retrieve an arbitary Wikipedia page of \"Python\" and create a list of links on that page"
   ]
  },
  {
   "cell_type": "code",
   "execution_count": 261,
   "metadata": {},
   "outputs": [],
   "source": [
    "# This is the url you will scrape in this exercise\n",
    "url4 ='https://en.wikipedia.org/wiki/Python_Anghelo' "
   ]
  },
  {
   "cell_type": "code",
   "execution_count": 262,
   "metadata": {},
   "outputs": [],
   "source": [
    "#your code\n",
    "\n",
    "python_page = requests.get(url4).content\n",
    "python_soup = BeautifulSoup(python_page, 'lxml')\n"
   ]
  },
  {
   "cell_type": "code",
   "execution_count": 273,
   "metadata": {},
   "outputs": [
    {
     "data": {
      "text/plain": [
       "['href=\"/wiki/Graphic_artist\"',\n",
       " 'href=\"/wiki/Video_game\"',\n",
       " 'href=\"/wiki/Pinball\"',\n",
       " 'href=\"/wiki/Transylvania\"',\n",
       " 'href=\"/wiki/Romania\"',\n",
       " 'href=\"/wiki/United_States\"',\n",
       " 'href=\"/wiki/Disney\"',\n",
       " 'href=\"/wiki/Williams_Electronics\"',\n",
       " 'href=\"/wiki/Joust_(video_game)\"',\n",
       " 'href=\"/wiki/Midway_Games\"',\n",
       " 'href=\"/wiki/The_Pinball_Circus\"',\n",
       " 'href=\"/wiki/Comet_(pinball)\"',\n",
       " 'href=\"/wiki/High_Speed_(pinball)\"',\n",
       " 'href=\"/wiki/Pin*Bot\"',\n",
       " 'href=\"/wiki/Big_Guns_(pinball)\"',\n",
       " 'href=\"/wiki/Cyclone_(Williams_pinball)\"',\n",
       " 'href=\"/wiki/Taxi_(pinball)\"',\n",
       " 'href=\"/wiki/Police_Force_(pinball)\"',\n",
       " 'href=\"/wiki/Bad_Cats\"',\n",
       " 'href=\"/wiki/The_Machine:_Bride_of_Pin*Bot\"',\n",
       " 'href=\"/wiki/Hurricane_(pinball)\"',\n",
       " 'href=\"/wiki/Fish_Tales_(pinball)\"',\n",
       " 'href=\"/wiki/Popeye_Saves_the_Earth\"',\n",
       " 'href=\"/wiki/The_Pinball_Circus\"',\n",
       " 'href=\"/wiki/Joust_(video_game)\"',\n",
       " 'href=\"/wiki/Bubbles_(video_game)\"',\n",
       " 'href=\"/wiki/Sinistar\"',\n",
       " 'href=\"/wiki/Star_Rider\"',\n",
       " 'href=\"/wiki/Wikipedia:Link_rot\"',\n",
       " 'href=\"/wiki/IMDb\"',\n",
       " 'href=\"/wiki/File:NormanRockwell.jpeg\"><img',\n",
       " 'href=\"/wiki/Wikipedia:Stub\"',\n",
       " 'href=\"/wiki/Template:US-artist-stub\"',\n",
       " 'href=\"/wiki/Template_talk:US-artist-stub\"',\n",
       " 'href=\"/wiki/Help:Category\"',\n",
       " 'href=\"/wiki/Category:Pinball_game_designers\"',\n",
       " 'href=\"/wiki/Category:2014_deaths\"',\n",
       " 'href=\"/wiki/Category:1954_births\"',\n",
       " 'href=\"/wiki/Category:People_from_Transylvania\"',\n",
       " 'href=\"/wiki/Category:Romanian_emigrants_to_the_United_States\"',\n",
       " 'href=\"/wiki/Category:Romanian_animators\"',\n",
       " 'href=\"/wiki/Category:Walt_Disney_Animation_Studios_people\"',\n",
       " 'href=\"/wiki/Category:American_artist_stubs\"',\n",
       " 'href=\"/wiki/Category:All_articles_with_dead_external_links\"',\n",
       " 'href=\"/wiki/Category:Articles_with_dead_external_links_from_October_2013\"',\n",
       " 'href=\"/wiki/Category:All_stub_articles\"',\n",
       " 'href=\"/wiki/Special:MyTalk\"',\n",
       " 'href=\"/wiki/Special:MyContributions\"',\n",
       " 'href=\"/wiki/Python_Anghelo\"',\n",
       " 'href=\"/wiki/Talk:Python_Anghelo\"',\n",
       " 'href=\"/wiki/Python_Anghelo\">Read</a>',\n",
       " 'href=\"/wiki/Main_Page\"',\n",
       " 'href=\"/wiki/Main_Page\"',\n",
       " 'href=\"/wiki/Wikipedia:Contents\"',\n",
       " 'href=\"/wiki/Wikipedia:Featured_content\"',\n",
       " 'href=\"/wiki/Portal:Current_events\"',\n",
       " 'href=\"/wiki/Special:Random\"',\n",
       " 'href=\"https://donate.wikimedia.org/wiki/Special:FundraiserRedirector?utm_source=donate&amp;utm_medium=sidebar&amp;utm_campaign=C13_en.wikipedia.org&amp;uselang=en\"',\n",
       " 'href=\"/wiki/Help:Contents\"',\n",
       " 'href=\"/wiki/Wikipedia:About\"',\n",
       " 'href=\"/wiki/Wikipedia:Community_portal\"',\n",
       " 'href=\"/wiki/Special:RecentChanges\"',\n",
       " 'href=\"//en.wikipedia.org/wiki/Wikipedia:Contact_us\"',\n",
       " 'href=\"/wiki/Special:WhatLinksHere/Python_Anghelo\"',\n",
       " 'href=\"/wiki/Special:RecentChangesLinked/Python_Anghelo\"',\n",
       " 'href=\"/wiki/Wikipedia:File_Upload_Wizard\"',\n",
       " 'href=\"/wiki/Special:SpecialPages\"',\n",
       " 'href=\"https://www.wikidata.org/wiki/Special:EntityPage/Q7263923\"',\n",
       " 'href=\"https://es.wikipedia.org/wiki/Python_Anghelo\"',\n",
       " 'href=\"https://pt.wikipedia.org/wiki/Python_Anghelo\"',\n",
       " 'href=\"https://www.wikidata.org/wiki/Special:EntityPage/Q7263923#sitelinks-wikipedia\"',\n",
       " 'href=\"//en.wikipedia.org/wiki/Wikipedia:Text_of_Creative_Commons_Attribution-ShareAlike_3.0_Unported_License\"',\n",
       " 'href=\"//foundation.wikimedia.org/wiki/Terms_of_Use\">Terms',\n",
       " 'href=\"//foundation.wikimedia.org/wiki/Privacy_policy\">Privacy',\n",
       " 'href=\"https://foundation.wikimedia.org/wiki/Privacy_policy\"',\n",
       " 'href=\"/wiki/Wikipedia:About\"',\n",
       " 'href=\"/wiki/Wikipedia:General_disclaimer\"',\n",
       " 'href=\"//en.wikipedia.org/wiki/Wikipedia:Contact_us\">Contact',\n",
       " 'href=\"https://www.mediawiki.org/wiki/Special:MyLanguage/How_to_contribute\">Developers</a>',\n",
       " 'href=\"https://foundation.wikimedia.org/wiki/Cookie_statement\">Cookie']"
      ]
     },
     "execution_count": 273,
     "metadata": {},
     "output_type": "execute_result"
    }
   ],
   "source": [
    "python_links = [str(link) for link in python_soup.find_all(\"a\", attrs={\"href\":True})]\n",
    "python_links = [s for l in python_links for s in l.split() if '/wiki/' in s]\n",
    "python_links"
   ]
  },
  {
   "cell_type": "markdown",
   "metadata": {},
   "source": [
    "#### Number of Titles that have changed in the United States Code since its last release point "
   ]
  },
  {
   "cell_type": "code",
   "execution_count": 274,
   "metadata": {},
   "outputs": [],
   "source": [
    "# This is the url you will scrape in this exercise\n",
    "url5 = 'http://uscode.house.gov/download/download.shtml'"
   ]
  },
  {
   "cell_type": "code",
   "execution_count": 275,
   "metadata": {},
   "outputs": [],
   "source": [
    "#your code\n",
    "\n",
    "uscode_page = requests.get(url5).content\n",
    "uscode_soup = BeautifulSoup(uscode_page, 'lxml')\n"
   ]
  },
  {
   "cell_type": "code",
   "execution_count": 292,
   "metadata": {},
   "outputs": [
    {
     "data": {
      "text/plain": [
       "4"
      ]
     },
     "execution_count": 292,
     "metadata": {},
     "output_type": "execute_result"
    }
   ],
   "source": [
    "us_codes = [str(code.text).replace(\"\\n\", '').replace(\" \", '').split(\"-\")[1] for code in\n",
    "            uscode_soup.find_all(\"div\", {\"class\": \"usctitlechanged\"})]\n",
    "\n",
    "len(us_codes)"
   ]
  },
  {
   "cell_type": "markdown",
   "metadata": {},
   "source": [
    "#### A Python list with the top ten FBI's Most Wanted names "
   ]
  },
  {
   "cell_type": "code",
   "execution_count": 293,
   "metadata": {},
   "outputs": [],
   "source": [
    "# This is the url you will scrape in this exercise\n",
    "url6 = 'https://www.fbi.gov/wanted/topten'"
   ]
  },
  {
   "cell_type": "code",
   "execution_count": 294,
   "metadata": {},
   "outputs": [],
   "source": [
    "#your code \n",
    "\n",
    "fbi_page = requests.get(url6).content\n",
    "fbi_soup = BeautifulSoup(fbi_page, 'lxml')\n"
   ]
  },
  {
   "cell_type": "code",
   "execution_count": 329,
   "metadata": {},
   "outputs": [
    {
     "data": {
      "text/plain": [
       "['ALEXIS FLORES',\n",
       " 'EUGENE PALMER',\n",
       " 'SANTIAGO VILLALBA MEDEROS',\n",
       " 'RAFAEL CARO-QUINTERO',\n",
       " 'ROBERT WILLIAM FISHER',\n",
       " 'BHADRESHKUMAR CHETANBHAI PATEL',\n",
       " 'ALEJANDRO ROSALES CASTILLO',\n",
       " 'ARNOLDO JIMENEZ',\n",
       " 'YASER ABDEL SAID',\n",
       " 'JASON DEREK BROWN']"
      ]
     },
     "execution_count": 329,
     "metadata": {},
     "output_type": "execute_result"
    }
   ],
   "source": [
    "fbi_top = [str(wanted.text) for wanted in fbi_soup.find_all(\"a\", attrs={\"href\":True})]\n",
    "fbi_top = [fbi_top[i] for i in range(fbi_top.index('Ten Most Wanted History Pictures'), fbi_top.index('Historical Photos of Each Top Ten\\xa0Fugitive\\ufeff'))]\n",
    "fbi_top = [s for s in fbi_top if all([c.isupper() or c is \"-\" for c in s if c != ' '])]\n",
    "fbi_top"
   ]
  },
  {
   "cell_type": "markdown",
   "metadata": {},
   "source": [
    "####  20 latest earthquakes info (date, time, latitude, longitude and region name) by the EMSC as a pandas dataframe"
   ]
  },
  {
   "cell_type": "code",
   "execution_count": 330,
   "metadata": {},
   "outputs": [],
   "source": [
    "# This is the url you will scrape in this exercise\n",
    "url7 = 'https://www.emsc-csem.org/Earthquake/'"
   ]
  },
  {
   "cell_type": "code",
   "execution_count": 331,
   "metadata": {},
   "outputs": [],
   "source": [
    "#your code\n",
    "\n",
    "eqk_page = requests.get(url7).content\n",
    "eqk_soup = BeautifulSoup(eqk_page, 'lxml')"
   ]
  },
  {
   "cell_type": "code",
   "execution_count": 403,
   "metadata": {},
   "outputs": [
    {
     "data": {
      "text/plain": [
       "['2020-04-08\\xa0\\xa0\\xa005:00:48.9',\n",
       " '2020-04-08\\xa0\\xa0\\xa004:54:47.3',\n",
       " '2020-04-08\\xa0\\xa0\\xa004:49:22.4',\n",
       " '2020-04-08\\xa0\\xa0\\xa004:45:48.5',\n",
       " '2020-04-08\\xa0\\xa0\\xa004:42:22.2',\n",
       " '2020-04-08\\xa0\\xa0\\xa004:42:01.0',\n",
       " '2020-04-08\\xa0\\xa0\\xa004:37:51.3',\n",
       " '2020-04-08\\xa0\\xa0\\xa004:31:26.7',\n",
       " '2020-04-08\\xa0\\xa0\\xa004:30:07.9',\n",
       " '2020-04-08\\xa0\\xa0\\xa004:11:31.7',\n",
       " '2020-04-08\\xa0\\xa0\\xa004:10:11.0',\n",
       " '2020-04-08\\xa0\\xa0\\xa004:03:49.3',\n",
       " '2020-04-08\\xa0\\xa0\\xa004:01:09.2',\n",
       " '2020-04-08\\xa0\\xa0\\xa003:32:38.0',\n",
       " '2020-04-08\\xa0\\xa0\\xa003:31:54.6',\n",
       " '2020-04-08\\xa0\\xa0\\xa003:27:32.1',\n",
       " '2020-04-08\\xa0\\xa0\\xa003:03:57.0',\n",
       " '2020-04-08\\xa0\\xa0\\xa002:58:59.3',\n",
       " '2020-04-08\\xa0\\xa0\\xa002:54:17.7',\n",
       " '2020-04-08\\xa0\\xa0\\xa002:53:36.5']"
      ]
     },
     "execution_count": 403,
     "metadata": {},
     "output_type": "execute_result"
    }
   ],
   "source": [
    "times_dt = [str(e.text) for e in eqk_soup.find_all(\"a\", attrs={\"href\":True}) if \"2020\" in str(e)][0:20]\n",
    "times_dt"
   ]
  },
  {
   "cell_type": "code",
   "execution_count": 404,
   "metadata": {},
   "outputs": [
    {
     "name": "stdout",
     "output_type": "stream",
     "text": [
      "['2020-04-08', '2020-04-08', '2020-04-08', '2020-04-08', '2020-04-08', '2020-04-08', '2020-04-08', '2020-04-08', '2020-04-08', '2020-04-08', '2020-04-08', '2020-04-08', '2020-04-08', '2020-04-08', '2020-04-08', '2020-04-08', '2020-04-08', '2020-04-08', '2020-04-08', '2020-04-08']\n"
     ]
    }
   ],
   "source": [
    "dates = [s for l in times_dt for s in l.split(u\"\\xa0\") if \"2020\" in s]\n",
    "print(dates)"
   ]
  },
  {
   "cell_type": "code",
   "execution_count": 405,
   "metadata": {},
   "outputs": [
    {
     "name": "stdout",
     "output_type": "stream",
     "text": [
      "['05:00:48.9', '04:54:47.3', '04:49:22.4', '04:45:48.5', '04:42:22.2', '04:42:01.0', '04:37:51.3', '04:31:26.7', '04:30:07.9', '04:11:31.7', '04:10:11.0', '04:03:49.3', '04:01:09.2', '03:32:38.0', '03:31:54.6', '03:27:32.1', '03:03:57.0', '02:58:59.3', '02:54:17.7', '02:53:36.5']\n"
     ]
    }
   ],
   "source": [
    "times = [s for l in times_dt for s in l.split(u\"\\xa0\") if \":\" in s]\n",
    "print(times)"
   ]
  },
  {
   "cell_type": "code",
   "execution_count": 393,
   "metadata": {},
   "outputs": [
    {
     "name": "stdout",
     "output_type": "stream",
     "text": [
      "['18.01', '59.60', '33.51', '40.63', '19.21', '3.71', '17.96', '19.21', '40.67', '36.16', '51.40', '33.50', '33.50', '15.38', '35.96', '19.20', '19.17', '39.61', '44.33', '33.50']\n"
     ]
    }
   ],
   "source": [
    "lattitude = [str(l.text).replace(\"\\xa0\", '') for l in eqk_soup.find_all(\"td\", {\"class\": \"tabev1\"})][0:40:2]\n",
    "print(lattitude)"
   ]
  },
  {
   "cell_type": "code",
   "execution_count": 394,
   "metadata": {},
   "outputs": [
    {
     "name": "stdout",
     "output_type": "stream",
     "text": [
      "['66.77', '138.81', '116.52', '20.72', '155.51', '125.81', '66.82', '155.50', '20.73', '98.29', '16.20', '116.52', '116.52', '94.12', '117.64', '155.47', '68.45', '26.07', '115.14', '116.51', '155.41']\n"
     ]
    }
   ],
   "source": [
    "longitude = [str(l.text).replace(\"\\xa0\", '') for l in eqk_soup.find_all(\"td\", {\"class\": \"tabev1\"})][1:42:2]\n",
    "print(longitude)"
   ]
  },
  {
   "cell_type": "code",
   "execution_count": 400,
   "metadata": {},
   "outputs": [
    {
     "name": "stdout",
     "output_type": "stream",
     "text": [
      "['PUERTO RICO', 'SOUTHEASTERN ALASKA', 'SOUTHERN CALIFORNIA', 'ALBANIA', 'ISLAND OF HAWAII, HAWAII', 'KEPULAUAN SANGIHE, INDONESIA', 'PUERTO RICO', 'ISLAND OF HAWAII, HAWAII', 'ALBANIA', 'OKLAHOMA', 'POLAND', 'SOUTHERN CALIFORNIA', 'SOUTHERN CALIFORNIA', 'OFFSHORE CHIAPAS, MEXICO', 'CENTRAL CALIFORNIA', 'ISLAND OF HAWAII, HAWAII', 'DOMINICAN REPUBLIC REGION', 'NEAR THE COAST OF WESTERN TURKEY', 'SOUTHERN IDAHO', 'SOUTHERN CALIFORNIA']\n"
     ]
    }
   ],
   "source": [
    "region = [str(l.text).replace(\"\\xa0\", '') for l in eqk_soup.find_all(\"td\", {\"class\": \"tb_region\"})][0:20]\n",
    "print(region)"
   ]
  },
  {
   "cell_type": "code",
   "execution_count": 407,
   "metadata": {},
   "outputs": [
    {
     "name": "stdout",
     "output_type": "stream",
     "text": [
      "2020-04-08 05:00:48.9 18.01 66.77 PUERTO RICO\n",
      "2020-04-08 04:54:47.3 59.60 138.81 SOUTHEASTERN ALASKA\n",
      "2020-04-08 04:49:22.4 33.51 116.52 SOUTHERN CALIFORNIA\n",
      "2020-04-08 04:45:48.5 40.63 20.72 ALBANIA\n",
      "2020-04-08 04:42:22.2 19.21 155.51 ISLAND OF HAWAII, HAWAII\n",
      "2020-04-08 04:42:01.0 3.71 125.81 KEPULAUAN SANGIHE, INDONESIA\n",
      "2020-04-08 04:37:51.3 17.96 66.82 PUERTO RICO\n",
      "2020-04-08 04:31:26.7 19.21 155.50 ISLAND OF HAWAII, HAWAII\n",
      "2020-04-08 04:30:07.9 40.67 20.73 ALBANIA\n",
      "2020-04-08 04:11:31.7 36.16 98.29 OKLAHOMA\n",
      "2020-04-08 04:10:11.0 51.40 16.20 POLAND\n",
      "2020-04-08 04:03:49.3 33.50 116.52 SOUTHERN CALIFORNIA\n",
      "2020-04-08 04:01:09.2 33.50 116.52 SOUTHERN CALIFORNIA\n",
      "2020-04-08 03:32:38.0 15.38 94.12 OFFSHORE CHIAPAS, MEXICO\n",
      "2020-04-08 03:31:54.6 35.96 117.64 CENTRAL CALIFORNIA\n",
      "2020-04-08 03:27:32.1 19.20 155.47 ISLAND OF HAWAII, HAWAII\n",
      "2020-04-08 03:03:57.0 19.17 68.45 DOMINICAN REPUBLIC REGION\n",
      "2020-04-08 02:58:59.3 39.61 26.07 NEAR THE COAST OF WESTERN TURKEY\n",
      "2020-04-08 02:54:17.7 44.33 115.14 SOUTHERN IDAHO\n",
      "2020-04-08 02:53:36.5 33.50 116.51 SOUTHERN CALIFORNIA\n"
     ]
    }
   ],
   "source": [
    "for i in range(0,20):\n",
    "    print(dates[i], times[i], lattitude[i], longitude[i], region[i])"
   ]
  },
  {
   "cell_type": "markdown",
   "metadata": {},
   "source": [
    "#### Count number of tweets by a given Twitter account."
   ]
  },
  {
   "cell_type": "markdown",
   "metadata": {},
   "source": [
    "You will need to include a ***try/except block*** for account names not found. \n",
    "<br>***Hint:*** the program should count the number of tweets for any provided account"
   ]
  },
  {
   "cell_type": "code",
   "execution_count": null,
   "metadata": {},
   "outputs": [],
   "source": [
    "# This is the url you will scrape in this exercise \n",
    "# You will need to add the account credentials to this url\n",
    "url = 'https://twitter.com/'"
   ]
  },
  {
   "cell_type": "code",
   "execution_count": null,
   "metadata": {},
   "outputs": [],
   "source": [
    "#your code"
   ]
  },
  {
   "cell_type": "markdown",
   "metadata": {},
   "source": [
    "#### Number of followers of a given twitter account"
   ]
  },
  {
   "cell_type": "markdown",
   "metadata": {},
   "source": [
    "You will need to include a ***try/except block*** in case account/s name not found. \n",
    "<br>***Hint:*** the program should count the followers for any provided account"
   ]
  },
  {
   "cell_type": "code",
   "execution_count": null,
   "metadata": {},
   "outputs": [],
   "source": [
    "# This is the url you will scrape in this exercise \n",
    "# You will need to add the account credentials to this url\n",
    "url = 'https://twitter.com/'"
   ]
  },
  {
   "cell_type": "code",
   "execution_count": null,
   "metadata": {},
   "outputs": [],
   "source": [
    "#your code"
   ]
  },
  {
   "cell_type": "markdown",
   "metadata": {},
   "source": [
    "#### List all language names and number of related articles in the order they appear in wikipedia.org"
   ]
  },
  {
   "cell_type": "code",
   "execution_count": null,
   "metadata": {},
   "outputs": [],
   "source": [
    "# This is the url you will scrape in this exercise\n",
    "url = 'https://www.wikipedia.org/'"
   ]
  },
  {
   "cell_type": "code",
   "execution_count": null,
   "metadata": {},
   "outputs": [],
   "source": [
    "#your code"
   ]
  },
  {
   "cell_type": "markdown",
   "metadata": {},
   "source": [
    "#### A list with the different kind of datasets available in data.gov.uk "
   ]
  },
  {
   "cell_type": "code",
   "execution_count": null,
   "metadata": {},
   "outputs": [],
   "source": [
    "# This is the url you will scrape in this exercise\n",
    "url = 'https://data.gov.uk/'"
   ]
  },
  {
   "cell_type": "code",
   "execution_count": null,
   "metadata": {},
   "outputs": [],
   "source": [
    "#your code "
   ]
  },
  {
   "cell_type": "markdown",
   "metadata": {},
   "source": [
    "#### Top 10 languages by number of native speakers stored in a Pandas Dataframe"
   ]
  },
  {
   "cell_type": "code",
   "execution_count": null,
   "metadata": {},
   "outputs": [],
   "source": [
    "# This is the url you will scrape in this exercise\n",
    "url = 'https://en.wikipedia.org/wiki/List_of_languages_by_number_of_native_speakers'"
   ]
  },
  {
   "cell_type": "code",
   "execution_count": null,
   "metadata": {},
   "outputs": [],
   "source": [
    "#your code"
   ]
  },
  {
   "cell_type": "markdown",
   "metadata": {},
   "source": [
    "### BONUS QUESTIONS"
   ]
  },
  {
   "cell_type": "markdown",
   "metadata": {},
   "source": [
    "#### Scrape a certain number of tweets of a given Twitter account."
   ]
  },
  {
   "cell_type": "code",
   "execution_count": null,
   "metadata": {},
   "outputs": [],
   "source": [
    "# This is the url you will scrape in this exercise \n",
    "# You will need to add the account credentials to this url\n",
    "url = 'https://twitter.com/'"
   ]
  },
  {
   "cell_type": "code",
   "execution_count": null,
   "metadata": {},
   "outputs": [],
   "source": [
    "# your code"
   ]
  },
  {
   "cell_type": "markdown",
   "metadata": {},
   "source": [
    "#### IMDB's Top 250 data (movie name, Initial release, director name and stars) as a pandas dataframe"
   ]
  },
  {
   "cell_type": "code",
   "execution_count": null,
   "metadata": {},
   "outputs": [],
   "source": [
    "# This is the url you will scrape in this exercise \n",
    "url = 'https://www.imdb.com/chart/top'"
   ]
  },
  {
   "cell_type": "code",
   "execution_count": null,
   "metadata": {},
   "outputs": [],
   "source": [
    "# your code"
   ]
  },
  {
   "cell_type": "markdown",
   "metadata": {},
   "source": [
    "#### Movie name, year and a brief summary of the top 10 random movies (IMDB) as a pandas dataframe."
   ]
  },
  {
   "cell_type": "code",
   "execution_count": null,
   "metadata": {},
   "outputs": [],
   "source": [
    "#This is the url you will scrape in this exercise\n",
    "url = 'http://www.imdb.com/chart/top'"
   ]
  },
  {
   "cell_type": "code",
   "execution_count": null,
   "metadata": {},
   "outputs": [],
   "source": [
    "#your code"
   ]
  },
  {
   "cell_type": "markdown",
   "metadata": {},
   "source": [
    "#### Find the live weather report (temperature, wind speed, description and weather) of a given city."
   ]
  },
  {
   "cell_type": "code",
   "execution_count": null,
   "metadata": {},
   "outputs": [],
   "source": [
    "#https://openweathermap.org/current\n",
    "city = city=input('Enter the city:')\n",
    "url = 'http://api.openweathermap.org/data/2.5/weather?'+'q='+city+'&APPID=b35975e18dc93725acb092f7272cc6b8&units=metric'"
   ]
  },
  {
   "cell_type": "code",
   "execution_count": null,
   "metadata": {},
   "outputs": [],
   "source": [
    "# your code"
   ]
  },
  {
   "cell_type": "markdown",
   "metadata": {},
   "source": [
    "#### Book name,price and stock availability as a pandas dataframe."
   ]
  },
  {
   "cell_type": "code",
   "execution_count": null,
   "metadata": {},
   "outputs": [],
   "source": [
    "# This is the url you will scrape in this exercise. \n",
    "# It is a fictional bookstore created to be scraped. \n",
    "url = 'http://books.toscrape.com/'"
   ]
  },
  {
   "cell_type": "code",
   "execution_count": null,
   "metadata": {},
   "outputs": [],
   "source": [
    "#your code"
   ]
  }
 ],
 "metadata": {
  "kernelspec": {
   "display_name": "Python 3",
   "language": "python",
   "name": "python3"
  },
  "language_info": {
   "codemirror_mode": {
    "name": "ipython",
    "version": 3
   },
   "file_extension": ".py",
   "mimetype": "text/x-python",
   "name": "python",
   "nbconvert_exporter": "python",
   "pygments_lexer": "ipython3",
   "version": "3.7.3"
  }
 },
 "nbformat": 4,
 "nbformat_minor": 2
}
